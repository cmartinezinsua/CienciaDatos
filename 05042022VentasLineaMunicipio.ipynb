{
 "cells": [
  {
   "cell_type": "code",
   "execution_count": 1,
   "metadata": {
    "collapsed": true
   },
   "outputs": [],
   "source": [
    "import pandas as pd\n",
    "import numpy as np\n",
    "import plotly.express as px\n",
    "from datetime import datetime\n",
    "from dash import Dash, html, dcc, Output, Input\n",
    "pd.options.display.float_format = '{:,.0f}'.format\n",
    "import glob"
   ]
  },
  {
   "cell_type": "code",
   "execution_count": 2,
   "outputs": [],
   "source": [
    "lista = lista = glob.glob(\"D:/Zaeli/Analise Cliente Produto Comercial/Consolidado/Recientes/*.csv\")\n",
    "ventas = []"
   ],
   "metadata": {
    "collapsed": false,
    "pycharm": {
     "name": "#%%\n"
    }
   }
  },
  {
   "cell_type": "code",
   "execution_count": 3,
   "outputs": [],
   "source": [
    "for archivo in lista:\n",
    "    data = pd.read_csv(archivo, header=0, sep = ';', parse_dates = ['Ano/Mes'], dtype = {'CodGer':str,'CODSAP':str ,'CodRepresentante':str, 'Cli&Rep':str})\n",
    "    data = data.rename(columns={'Ano/Mes':'Fecha', 'CODSAP' : 'Material'})\n",
    "    ventas.append(data)\n",
    "ventas = pd.concat(ventas, ignore_index = True)"
   ],
   "metadata": {
    "collapsed": false,
    "pycharm": {
     "name": "#%%\n"
    }
   }
  },
  {
   "cell_type": "markdown",
   "source": [
    "Actualización por inflación"
   ],
   "metadata": {
    "collapsed": false,
    "pycharm": {
     "name": "#%% md\n"
    }
   }
  },
  {
   "cell_type": "code",
   "execution_count": 4,
   "outputs": [],
   "source": [
    "inflacion = pd.read_excel(\"D:/Zaeli/BI/Archivos Compartidos/Inflacion.xlsx\", header=3, sheet_name = 'Hoja1')\n",
    "inflacion = inflacion.rename(columns= {'DataKey':'ChaveData'})\n",
    "ventasi = pd.merge(ventas, inflacion)\n",
    "ventasi['ReceitaBrutaIn'] = ventasi.ReceitaBruta * (1 + ventasi.InfacaoAcum)\n",
    "ventasi['Verbas'] = ventasi.Bonif + ventasi.DescConcedidos + ventasi.Impostos + ventasi.Frete + ventasi.Comis - ventasi.Devol - ventasi.Troca\n",
    "ventasi['ReceitaLiquida'] = ventasi.ReceitaBruta - ventasi.Verbas\n",
    "ventasi['ReceitaLiquidaIn'] = ventasi.ReceitaLiquida * (1 + ventasi.InfacaoAcum)\n",
    "ventasi['MargenBruto'] = ventasi.ReceitaLiquida - ventasi.CPV\n",
    "ventasi['MargenBrutoIn'] = ventasi.MargenBruto * (1 + ventasi.InfacaoAcum)\n",
    "ventasi = ventasi.drop(['PesoBruto', 'ReceitaBruta', 'Bonif', 'DescConcedidos', 'Impostos', 'Comis', 'CPV', 'Devol', 'Troca',                                                                       'Inflacaomes','InfacaoAcum', 'Verbas', 'MargenBruto', 'ReceitaLiquida'], axis=1)\n",
    "ventasi = ventasi.rename(columns={\n",
    "    'ReceitaBrutaIn' : 'ReceitaBruta',\n",
    "    'ReceitaLiquidaIn' : 'ReceitaLiquida',\n",
    "    'MargenBrutoIn' : 'Margen'\n",
    "})"
   ],
   "metadata": {
    "collapsed": false,
    "pycharm": {
     "name": "#%%\n"
    }
   }
  },
  {
   "cell_type": "markdown",
   "source": [
    "Carga del cadastro de productos"
   ],
   "metadata": {
    "collapsed": false,
    "pycharm": {
     "name": "#%% md\n"
    }
   }
  },
  {
   "cell_type": "code",
   "execution_count": 5,
   "outputs": [],
   "source": [
    "lineas = pd.read_csv(\"D:/Zaeli/PrevisionDemanda/lineasProducto.csv\", header=0, sep=';')\n",
    "lineas = lineas.rename(columns={\n",
    "    'COD SAP':'Material',\n",
    "    'Linha':'Linea',\n",
    "    'Produto':'Producto'\n",
    "})\n",
    "lineas['Material'] = lineas['Material'].astype(str)\n",
    "ventasP = pd.merge(ventasi, lineas)\n",
    "ventasP = ventasP.drop(['Cli&Rep', 'Tipo'], axis=1)"
   ],
   "metadata": {
    "collapsed": false,
    "pycharm": {
     "name": "#%%\n"
    }
   }
  },
  {
   "cell_type": "markdown",
   "source": [
    "Carga del cadastro de clientes"
   ],
   "metadata": {
    "collapsed": false,
    "pycharm": {
     "name": "#%% md\n"
    }
   }
  },
  {
   "cell_type": "code",
   "execution_count": 6,
   "outputs": [],
   "source": [
    "ListadoClientes = pd.read_excel(\"D:/Zaeli/BI/Archivos Compartidos/Clientes.xlsx\",sheet_name='Listado')\n",
    "ListadoClientes = ListadoClientes.drop(['Cidade', 'CodEstado', 'Estado', 'CidadeEstado'], axis=1)\n",
    "ventasC = pd.merge(ventasP, ListadoClientes)"
   ],
   "metadata": {
    "collapsed": false,
    "pycharm": {
     "name": "#%%\n"
    }
   }
  },
  {
   "cell_type": "markdown",
   "source": [
    "Consolidacion por mes, linea y municipio"
   ],
   "metadata": {
    "collapsed": false,
    "pycharm": {
     "name": "#%% md\n"
    }
   }
  },
  {
   "cell_type": "code",
   "execution_count": 7,
   "outputs": [],
   "source": [
    "ventasM = ventasC.groupby([pd.Grouper(freq='M', key = 'Fecha'), 'Fecha' ,'CodigoMunicipio', 'Linea'], as_index=False).agg({\n",
    "    'ReceitaBruta':'sum',\n",
    "    'ReceitaLiquida' : 'sum',\n",
    "    'PesoLiq' :'sum',\n",
    "    'Volume' : 'sum',\n",
    "    'Margen': 'sum'\n",
    "})"
   ],
   "metadata": {
    "collapsed": false,
    "pycharm": {
     "name": "#%%\n"
    }
   }
  },
  {
   "cell_type": "code",
   "execution_count": 8,
   "outputs": [],
   "source": [
    "ventasM['MesAno'] = ventasM['Fecha'].dt.strftime(\"%d/%y\")\n",
    "ventasM['Ano'] = ventasM['Fecha'].dt.strftime(\"%y\")"
   ],
   "metadata": {
    "collapsed": false,
    "pycharm": {
     "name": "#%%\n"
    }
   }
  },
  {
   "cell_type": "code",
   "execution_count": 9,
   "outputs": [],
   "source": [
    "ventasM = ventasM.query('Volume >1 & ReceitaBruta >0')"
   ],
   "metadata": {
    "collapsed": false,
    "pycharm": {
     "name": "#%%\n"
    }
   }
  },
  {
   "cell_type": "code",
   "execution_count": 10,
   "outputs": [],
   "source": [
    "ventasM= ventasM.rename(columns={'PesoLiq' : 'Peso'})"
   ],
   "metadata": {
    "collapsed": false,
    "pycharm": {
     "name": "#%%\n"
    }
   }
  },
  {
   "cell_type": "code",
   "execution_count": 11,
   "outputs": [],
   "source": [
    "ventasL = ventasM.groupby([pd.Grouper(freq='M', key = 'Fecha'), 'Fecha', 'MesAno', 'Ano',  'CodigoMunicipio'], as_index=False).agg({\n",
    "    'ReceitaBruta':'sum',\n",
    "    'ReceitaLiquida' : 'sum',\n",
    "    'Peso' :'sum',\n",
    "    'Volume' : 'sum',\n",
    "    'Margen': 'sum'\n",
    "})"
   ],
   "metadata": {
    "collapsed": false,
    "pycharm": {
     "name": "#%%\n"
    }
   }
  },
  {
   "cell_type": "markdown",
   "source": [
    "Preparacion y carga del archivo de municipios"
   ],
   "metadata": {
    "collapsed": false,
    "pycharm": {
     "name": "#%% md\n"
    }
   }
  },
  {
   "cell_type": "code",
   "execution_count": 12,
   "outputs": [],
   "source": [
    "datosMun = pd.read_csv(\"D:/Zaeli/PrevisionDemanda/DatosMunicipios.csv\", header=0, sep = ';')\n",
    "datosMun = datosMun.rename(columns = {\n",
    "    'CódigoMunicípio':'CodigoMunicipio',\n",
    "    'Área Territorial 0 km² [2020]':'Area_km2',\n",
    "    'População estimada 0 pessoas [2021]': 'Poblacion',\n",
    "    'Densidade demográfica 0 hab/km² [2010]': 'Habitantes_km2',\n",
    "    'Escolarização6a14%': 'PorcEscolarizacion6a14',\n",
    "    'IDHM ' : 'IDHM',\n",
    "    'Mortalidade infantil' : 'Mortalidad_Infantil'\n",
    "})\n",
    "datosMun.loc[datosMun['IDHM'] < 0.49 , 'Desarrollo'] = 'Muy Bajo'\n",
    "datosMun.loc[(datosMun['IDHM'] >= 0.49) & (datosMun['IDHM'] < 0.599) , 'Desarrollo'] = 'Bajo'\n",
    "datosMun.loc[(datosMun['IDHM'] >= 0.599) & (datosMun['IDHM'] < 0.699) , 'Desarrollo'] = 'Medio'\n",
    "datosMun.loc[(datosMun['IDHM'] >= 0.699) & (datosMun['IDHM'] <= 0.799) , 'Desarrollo'] = 'Alto'\n",
    "datosMun.loc[datosMun['IDHM'] >= 0.80 , 'Desarrollo'] = 'Muy Alto'\n",
    "datosMun.loc[datosMun['IDHM'] < 0.49 , 'DesarrolloNum'] = '1'\n",
    "datosMun.loc[(datosMun['IDHM'] >= 0.49) & (datosMun['IDHM'] < 0.599) , 'DesarrolloNum'] = '2'\n",
    "datosMun.loc[(datosMun['IDHM'] >= 0.599) & (datosMun['IDHM'] < 0.699) , 'DesarrolloNum'] = '3'\n",
    "datosMun.loc[(datosMun['IDHM'] >= 0.699) & (datosMun['IDHM'] <= 0.799) , 'DesarrolloNum'] = '4'\n",
    "datosMun.loc[datosMun['IDHM'] >= 0.80 , 'DesarrolloNum'] = '5'"
   ],
   "metadata": {
    "collapsed": false,
    "pycharm": {
     "name": "#%%\n"
    }
   }
  },
  {
   "cell_type": "code",
   "execution_count": 13,
   "outputs": [],
   "source": [
    "col_minimercados = np.argwhere(datosMun.columns.isin(['MiniMercDemais','MiniMercEPP', 'MiniMercME', 'MiniMercMEI'])).ravel()\n",
    "col_supermercados = np.argwhere(datosMun.columns.isin(['SupermercadoDemais','SupermercadoEPP', 'SupermercadoME', 'SupermercadoMEI'])).ravel()\n",
    "col_conveniencias = np.argwhere(datosMun.columns.isin(['ConvenienciaDemais', 'ConvenienciaEPP', 'ConvenienciaME','ConvenienciaMEI'])).ravel()\n",
    "col_hipermercados =  np.argwhere(datosMun.columns.isin(['HiperDemais', 'HiperEPP'])).ravel()\n",
    "col_atacados = np.argwhere(datosMun.columns.isin(['AtacadoDemais', 'AtacadoEPP'])).ravel()"
   ],
   "metadata": {
    "collapsed": false,
    "pycharm": {
     "name": "#%%\n"
    }
   }
  },
  {
   "cell_type": "code",
   "execution_count": 14,
   "outputs": [],
   "source": [
    "datosMun['Minimercados'] = datosMun.iloc[:,col_minimercados].sum(axis=1)\n",
    "datosMun['Supermercados'] = datosMun.iloc[:,col_supermercados].sum(axis=1)\n",
    "datosMun['Conveniencias'] = datosMun.iloc[:,col_conveniencias].sum(axis=1)\n",
    "datosMun['Hipermercados'] = datosMun.iloc[:,col_hipermercados].sum(axis=1)\n",
    "datosMun['Atacados'] = datosMun.iloc[:,col_atacados].sum(axis=1)"
   ],
   "metadata": {
    "collapsed": false,
    "pycharm": {
     "name": "#%%\n"
    }
   }
  },
  {
   "cell_type": "code",
   "execution_count": 15,
   "outputs": [],
   "source": [
    "datosMun.loc[(datosMun.Hipermercados + datosMun.Atacados) == 0, 'TipoComercios'] = 'Sin Hipermercados ni Atacados'\n",
    "datosMun.loc[((datosMun.Hipermercados + datosMun.Atacados) >0) & ((datosMun.Hipermercados + datosMun.Atacados) <= 5), 'TipoComercios' ] = '< 5 Atacados e Hipermercados'\n",
    "datosMun.loc[((datosMun.Hipermercados + datosMun.Atacados) >5) & ((datosMun.Hipermercados + datosMun.Atacados) <= 10), 'TipoComercios' ] = '< 10 Atacados e Hipermercados'\n",
    "datosMun.loc[(datosMun.Hipermercados + datosMun.Atacados) >10 , 'TipoComercios' ] = '> 10 Atacados e Hipermercados'\n",
    "datosMun.loc[(datosMun.Hipermercados + datosMun.Atacados) == 0, 'TipoComerciosNum'] = '1'\n",
    "datosMun.loc[((datosMun.Hipermercados + datosMun.Atacados) >0) & ((datosMun.Hipermercados + datosMun.Atacados) <= 5), 'TipoComerciosNum' ] = '2'\n",
    "datosMun.loc[((datosMun.Hipermercados + datosMun.Atacados) >5) & ((datosMun.Hipermercados + datosMun.Atacados) <= 10), 'TipoComerciosNum' ] = '3'\n",
    "datosMun.loc[(datosMun.Hipermercados + datosMun.Atacados) >10 , 'TipoComerciosNum' ] = '4'"
   ],
   "metadata": {
    "collapsed": false,
    "pycharm": {
     "name": "#%%\n"
    }
   }
  },
  {
   "cell_type": "code",
   "execution_count": 16,
   "outputs": [],
   "source": [
    "datosMun = datosMun.drop(['VAAgro', 'VAIndustria','VAServicos', 'VAAdmPublica','VATotal', 'Impostos', 'PBI','Atividade secundaria', 'Atividade terciaria', 'Area_km2',\n",
    "                          'Habitantes_km2', 'PorcEscolarizacion6a14', 'Mortalidad_Infantil', 'ReceitaPrefeitura', 'DespesasPrefeitura','Mortalidad_Infantil', 'ReceitaPrefeitura', 'DespesasPrefeitura','HiperDemais', 'HiperEPP', 'HiperME', 'HiperMEI', 'MiniMercDemais', 'MiniMercEPP', 'MiniMercME', 'MiniMercMEI', 'SupermercadoDemais', 'SupermercadoEPP', 'SupermercadoME', 'SupermercadoMEI', 'ConvenienciaDemais', 'ConvenienciaEPP', 'ConvenienciaME', 'ConvenienciaMEI', 'AtacadoDemais', 'AtacadoEPP', 'AtacadoME', 'AtacadoMEI'\n",
    "                          ], axis=1)"
   ],
   "metadata": {
    "collapsed": false,
    "pycharm": {
     "name": "#%%\n"
    }
   }
  },
  {
   "cell_type": "markdown",
   "source": [
    "Variables de seleccion"
   ],
   "metadata": {
    "collapsed": false,
    "pycharm": {
     "name": "#%% md\n"
    }
   }
  },
  {
   "cell_type": "code",
   "execution_count": 17,
   "outputs": [],
   "source": [
    "ventas_tot_mun = pd.merge(ventasL, datosMun)"
   ],
   "metadata": {
    "collapsed": false,
    "pycharm": {
     "name": "#%%\n"
    }
   }
  },
  {
   "cell_type": "code",
   "execution_count": 18,
   "outputs": [],
   "source": [
    "ventas_tot_mun = ventas_tot_mun.drop(columns=['CodigoMunicipio'], axis=1)"
   ],
   "metadata": {
    "collapsed": false,
    "pycharm": {
     "name": "#%%\n"
    }
   }
  },
  {
   "cell_type": "code",
   "execution_count": 94,
   "outputs": [],
   "source": [
    "estado = 'Ceara'\n",
    "mes = '03/22'\n",
    "municipio = 'Apucarana'"
   ],
   "metadata": {
    "collapsed": false,
    "pycharm": {
     "name": "#%%\n"
    }
   }
  },
  {
   "cell_type": "code",
   "execution_count": 95,
   "outputs": [],
   "source": [
    "ventas_tot_mun_22 = ventas_tot_mun.query('Estado == @estado & MesAno == @mes & Municipio != @municipio')"
   ],
   "metadata": {
    "collapsed": false,
    "pycharm": {
     "name": "#%%\n"
    }
   }
  },
  {
   "cell_type": "code",
   "execution_count": 96,
   "outputs": [],
   "source": [
    "ventas_tot_mun_22 = ventas_tot_mun_22.sort_values('DesarrolloNum')"
   ],
   "metadata": {
    "collapsed": false,
    "pycharm": {
     "name": "#%%\n"
    }
   }
  },
  {
   "cell_type": "code",
   "execution_count": 97,
   "outputs": [],
   "source": [
    "opciones_estado = list(ventas_tot_mun_22.Estado.unique())\n",
    "opciones_municipio = list(ventas_tot_mun_22.Municipio.unique())\n",
    "opciones_tipoComercio = list(ventas_tot_mun_22.TipoComercios.unique())\n",
    "opciones_desarrollo = list(ventas_tot_mun_22.Desarrollo.unique())"
   ],
   "metadata": {
    "collapsed": false,
    "pycharm": {
     "name": "#%%\n"
    }
   }
  },
  {
   "cell_type": "markdown",
   "source": [
    "Graficos del total de ventas por municipio"
   ],
   "metadata": {
    "collapsed": false,
    "pycharm": {
     "name": "#%% md\n"
    }
   }
  },
  {
   "cell_type": "code",
   "execution_count": 98,
   "outputs": [
    {
     "data": {
      "application/vnd.plotly.v1+json": {
       "config": {
        "plotlyServerURL": "https://plot.ly"
       },
       "data": [
        {
         "customdata": [
          [
           "Ceara",
           "Administracion Publica",
           7684.18,
           16714,
           4816.56
          ],
          [
           "Ceara",
           "Administracion Publica",
           8815.22,
           16116,
           8831.060000000001
          ],
          [
           "Ceara",
           "Administracion Publica",
           8137.32,
           15757,
           21544.159999999996
          ],
          [
           "Ceara",
           "Administracion Publica",
           7731.54,
           18700,
           14801.750000000004
          ],
          [
           "Ceara",
           "Administracion Publica",
           7788.91,
           27008,
           7851.599999999999
          ],
          [
           "Ceara",
           "Administracion Publica",
           8006.78,
           8555,
           2729.5799999999995
          ],
          [
           "Ceara",
           "Administracion Publica",
           7713.59,
           21246,
           4047.8500000000004
          ],
          [
           "Ceara",
           "Administracion Publica",
           7710.74,
           11165,
           2984.29
          ],
          [
           "Ceara",
           "Administracion Publica",
           9308.8,
           4784,
           212.36
          ],
          [
           "Ceara",
           "Administracion Publica",
           7875.07,
           21707,
           9796.86
          ],
          [
           "Ceara",
           "Administracion Publica",
           7438.27,
           17584,
           334.33000000000004
          ],
          [
           "Ceara",
           "Administracion Publica",
           8527.43,
           54687,
           31497.670000000006
          ],
          [
           "Ceara",
           "Administracion Publica",
           7973.95,
           17210,
           36550.82000000001
          ],
          [
           "Ceara",
           "Administracion Publica",
           8634.91,
           21342,
           3355.24
          ],
          [
           "Ceara",
           "Administracion Publica",
           9353.48,
           15798,
           6283.870000000001
          ],
          [
           "Ceara",
           "Administracion Publica",
           10373.44,
           14920,
           5865.769999999999
          ],
          [
           "Ceara",
           "Administracion Publica",
           8051.85,
           11965,
           3063.94
          ],
          [
           "Ceara",
           "Administracion Publica",
           9768.71,
           41078,
           18095.2
          ],
          [
           "Ceara",
           "Servicios",
           22783.47,
           16356,
           4755.74
          ],
          [
           "Ceara",
           "Administracion Publica",
           7703.87,
           7712,
           941.1099999999999
          ],
          [
           "Ceara",
           "Administracion Publica",
           5749.66,
           21041,
           805.78
          ],
          [
           "Ceara",
           "Administracion Publica",
           8013.73,
           7254,
           965.0199999999999
          ],
          [
           "Ceara",
           "Servicios",
           14078.8,
           79550,
           9106.19
          ],
          [
           "Ceara",
           "Servicios",
           17569.97,
           60232,
           22421.05
          ],
          [
           "Ceara",
           "Administracion Publica",
           8777.58,
           48370,
           6607.139999999999
          ],
          [
           "Ceara",
           "Administracion Publica",
           8761.76,
           7402,
           2578.79
          ],
          [
           "Ceara",
           "Administracion Publica",
           8396.48,
           23537,
           24967.37
          ],
          [
           "Ceara",
           "Administracion Publica",
           8503.8,
           24567,
           145083.99000000002
          ],
          [
           "Ceara",
           "Administracion Publica",
           8816.46,
           6318,
           11585.12
          ],
          [
           "Ceara",
           "Administracion Publica",
           8574.48,
           22834,
           130856.77000000003
          ],
          [
           "Ceara",
           "Administracion Publica",
           9754.59,
           27513,
           13353.059999999998
          ],
          [
           "Ceara",
           "Administracion Publica",
           8048.99,
           25612,
           14052.94
          ],
          [
           "Ceara",
           "Administracion Publica",
           8754.93,
           27413,
           16397.059999999998
          ],
          [
           "Ceara",
           "Administracion Publica",
           9974.77,
           12507,
           18905.560000000005
          ],
          [
           "Ceara",
           "Servicios",
           14728.93,
           34592,
           11972.189999999999
          ],
          [
           "Ceara",
           "Administracion Publica",
           8497.98,
           27187,
           8320.38
          ],
          [
           "Ceara",
           "Administracion Publica",
           13889.97,
           8150,
           1717.4900000000002
          ],
          [
           "Ceara",
           "Administracion Publica",
           8650.81,
           31476,
           37021.07000000001
          ],
          [
           "Ceara",
           "Administracion Publica",
           10450.22,
           14351,
           1360.27
          ],
          [
           "Ceara",
           "Administracion Publica",
           9689.49,
           19330,
           1962.6200000000001
          ]
         ],
         "hovertemplate": "<b>%{hovertext}</b><br><br>TipoComercios=Sin Hipermercados ni Atacados<br>Peso=%{x:,.0f}<br>Poblacion=%{customdata[3]:,.0f}<br>Estado=%{customdata[0]}<br>AtividadePrincipal=%{customdata[1]}<br>PBIperCapita=%{customdata[2]:,.0f}<br>ReceitaBruta=%{customdata[4]:,.0f}<extra></extra>",
         "hovertext": [
          "Salitre",
          "Quixelô",
          "Saboeiro",
          "Cariús",
          "Caririaçu",
          "Tarrafas",
          "Quiterianópolis",
          "Potengi",
          "Granjeiro",
          "Araripe",
          "Aiuaba",
          "Acopiara",
          "Piquet Carneiro",
          "Orós",
          "Nova Olinda",
          "Porteiras",
          "Abaiara",
          "Várzea Alegre",
          "Pereiro",
          "Altaneira",
          "Catarina",
          "Ereré",
          "Russas",
          "Limoeiro do Norte",
          "Mauriti",
          "Antonina do Norte",
          "Assaré",
          "Aurora",
          "Baixio",
          "Barro",
          "Campos Sales",
          "Cedro",
          "Milagres",
          "Ipaumirim",
          "Jaguaribe",
          "Jardim",
          "Jati",
          "Lavras da Mangabeira",
          "Iracema",
          "Farias Brito"
         ],
         "legendgroup": "Sin Hipermercados ni Atacados",
         "marker": {
          "color": "#636efa",
          "size": [
           16714,
           16116,
           15757,
           18700,
           27008,
           8555,
           21246,
           11165,
           4784,
           21707,
           17584,
           54687,
           17210,
           21342,
           15798,
           14920,
           11965,
           41078,
           16356,
           7712,
           21041,
           7254,
           79550,
           60232,
           48370,
           7402,
           23537,
           24567,
           6318,
           22834,
           27513,
           25612,
           27413,
           12507,
           34592,
           27187,
           8150,
           31476,
           14351,
           19330
          ],
          "sizemode": "area",
          "sizeref": 695.66,
          "symbol": "circle"
         },
         "mode": "markers",
         "name": "Sin Hipermercados ni Atacados",
         "orientation": "v",
         "showlegend": true,
         "type": "scatter",
         "x": [
          515.56,
          1258.28,
          3752.5399999999995,
          1115.56,
          636.35,
          251.28000000000003,
          230.44,
          260.24,
          13.92,
          1107.26,
          21.2,
          4889.8200000000015,
          6969.92,
          312.78,
          372.40000000000003,
          1476.8,
          224.64000000000001,
          3783.2999999999993,
          390.76,
          89.88,
          33.120000000000005,
          88.8,
          537.62,
          1141.1799999999998,
          521.74,
          393.37999999999994,
          4788.34,
          37025.240000000005,
          2436.4600000000005,
          32803.96,
          965.02,
          1547.8100000000002,
          1499.1599999999999,
          2927.4399999999996,
          698.86,
          598.16,
          94.16,
          8829.039999999999,
          59.16,
          405.94
         ],
         "xaxis": "x",
         "y": [
          1269.2099999999998,
          1885.58,
          3429.52,
          4350.859999999999,
          2234.7300000000005,
          793.06,
          1045.8700000000001,
          774.3799999999999,
          79.56,
          2466.6400000000003,
          131.65000000000003,
          7107.380000000001,
          5849.030000000001,
          848.1700000000001,
          1956.0600000000002,
          1308.6799999999998,
          813.1400000000001,
          2900.3600000000006,
          1371.8,
          298.68999999999994,
          282.18,
          317.58,
          1629.4900000000005,
          5152.110000000001,
          1821.6800000000003,
          507.15,
          4031.3499999999995,
          14114.839999999998,
          1650.5200000000004,
          9825.179999999993,
          4060.5899999999997,
          3729.36,
          4781.940000000001,
          4113.55,
          3241.0499999999997,
          2401.42,
          509.05000000000007,
          4674.059999999999,
          392.8,
          279.1100000000001
         ],
         "yaxis": "y"
        },
        {
         "customdata": [
          [
           "Ceara",
           "Administracion Publica",
           7825.89,
           43917,
           33843.82999999999
          ],
          [
           "Ceara",
           "Administracion Publica",
           9843.98,
           24949,
           66212.76000000001
          ],
          [
           "Ceara",
           "Administracion Publica",
           7617.58,
           31391,
           5353.25
          ],
          [
           "Ceara",
           "Administracion Publica",
           12428.39,
           9207,
           13069.86
          ],
          [
           "Ceara",
           "Administracion Publica",
           11245.42,
           59259,
           10887.250000000002
          ],
          [
           "Ceara",
           "Agricultura",
           13325.51,
           35566,
           13716.54
          ],
          [
           "Ceara",
           "Servicios",
           17347.6,
           61662,
           97592.49
          ],
          [
           "Ceara",
           "Administracion Publica",
           13660.13,
           50195,
           33593.29
          ],
          [
           "Ceara",
           "Servicios",
           16312.75,
           61590,
           308.7
          ],
          [
           "Ceara",
           "Administracion Publica",
           9019.17,
           68303,
           18737.170000000002
          ],
          [
           "Ceara",
           "Servicios",
           16562.4,
           103633,
           190133.23
          ],
          [
           "Ceara",
           "Servicios",
           13315.64,
           133913,
           7074.46
          ]
         ],
         "hovertemplate": "<b>%{hovertext}</b><br><br>TipoComercios=< 5 Atacados e Hipermercados<br>Peso=%{x:,.0f}<br>Poblacion=%{customdata[3]:,.0f}<br>Estado=%{customdata[0]}<br>AtividadePrincipal=%{customdata[1]}<br>PBIperCapita=%{customdata[2]:,.0f}<br>ReceitaBruta=%{customdata[4]:,.0f}<extra></extra>",
         "hovertext": [
          "Mombaça",
          "Jucás",
          "Parambu",
          "Penaforte",
          "Tauá",
          "Missão Velha",
          "Barbalha",
          "Brejo Santo",
          "Morada Nova",
          "Icó",
          "Iguatu",
          "Crato"
         ],
         "legendgroup": "< 5 Atacados e Hipermercados",
         "marker": {
          "color": "#EF553B",
          "size": [
           43917,
           24949,
           31391,
           9207,
           59259,
           35566,
           61662,
           50195,
           61590,
           68303,
           103633,
           133913
          ],
          "sizemode": "area",
          "sizeref": 695.66,
          "symbol": "circle"
         },
         "mode": "markers",
         "name": "< 5 Atacados e Hipermercados",
         "orientation": "v",
         "showlegend": true,
         "type": "scatter",
         "x": [
          3574.7200000000003,
          16953.88,
          577.94,
          1096.06,
          784.7199999999999,
          1561.1400000000003,
          26493.809999999998,
          2835.1199999999994,
          22.6,
          1311.42,
          45689.18000000001,
          722.9200000000001
         ],
         "xaxis": "x",
         "y": [
          8207.8,
          6118.139999999995,
          1650.9800000000002,
          3585.3599999999997,
          3074.24,
          3399.9599999999996,
          2929.0499999999984,
          9528.010000000002,
          87.53,
          5428.22,
          11642.799999999996,
          1951.1100000000001
         ],
         "yaxis": "y"
        },
        {
         "customdata": [
          [
           "Ceara",
           "Servicios",
           17772.55,
           278264,
           301514.95
          ]
         ],
         "hovertemplate": "<b>%{hovertext}</b><br><br>TipoComercios=> 10 Atacados e Hipermercados<br>Peso=%{x:,.0f}<br>Poblacion=%{customdata[3]:,.0f}<br>Estado=%{customdata[0]}<br>AtividadePrincipal=%{customdata[1]}<br>PBIperCapita=%{customdata[2]:,.0f}<br>ReceitaBruta=%{customdata[4]:,.0f}<extra></extra>",
         "hovertext": [
          "Juazeiro do Norte"
         ],
         "legendgroup": "> 10 Atacados e Hipermercados",
         "marker": {
          "color": "#00cc96",
          "size": [
           278264
          ],
          "sizemode": "area",
          "sizeref": 695.66,
          "symbol": "circle"
         },
         "mode": "markers",
         "name": "> 10 Atacados e Hipermercados",
         "orientation": "v",
         "showlegend": true,
         "type": "scatter",
         "x": [
          59242.90000000002
         ],
         "xaxis": "x",
         "y": [
          51200.74
         ],
         "yaxis": "y"
        }
       ],
       "layout": {
        "legend": {
         "itemsizing": "constant",
         "title": {
          "text": "TipoComercios"
         },
         "tracegroupgap": 0
        },
        "template": {
         "data": {
          "bar": [
           {
            "error_x": {
             "color": "#2a3f5f"
            },
            "error_y": {
             "color": "#2a3f5f"
            },
            "marker": {
             "line": {
              "color": "#E5ECF6",
              "width": 0.5
             },
             "pattern": {
              "fillmode": "overlay",
              "size": 10,
              "solidity": 0.2
             }
            },
            "type": "bar"
           }
          ],
          "barpolar": [
           {
            "marker": {
             "line": {
              "color": "#E5ECF6",
              "width": 0.5
             },
             "pattern": {
              "fillmode": "overlay",
              "size": 10,
              "solidity": 0.2
             }
            },
            "type": "barpolar"
           }
          ],
          "carpet": [
           {
            "aaxis": {
             "endlinecolor": "#2a3f5f",
             "gridcolor": "white",
             "linecolor": "white",
             "minorgridcolor": "white",
             "startlinecolor": "#2a3f5f"
            },
            "baxis": {
             "endlinecolor": "#2a3f5f",
             "gridcolor": "white",
             "linecolor": "white",
             "minorgridcolor": "white",
             "startlinecolor": "#2a3f5f"
            },
            "type": "carpet"
           }
          ],
          "choropleth": [
           {
            "colorbar": {
             "outlinewidth": 0,
             "ticks": ""
            },
            "type": "choropleth"
           }
          ],
          "contour": [
           {
            "colorbar": {
             "outlinewidth": 0,
             "ticks": ""
            },
            "colorscale": [
             [
              0.0,
              "#0d0887"
             ],
             [
              0.1111111111111111,
              "#46039f"
             ],
             [
              0.2222222222222222,
              "#7201a8"
             ],
             [
              0.3333333333333333,
              "#9c179e"
             ],
             [
              0.4444444444444444,
              "#bd3786"
             ],
             [
              0.5555555555555556,
              "#d8576b"
             ],
             [
              0.6666666666666666,
              "#ed7953"
             ],
             [
              0.7777777777777778,
              "#fb9f3a"
             ],
             [
              0.8888888888888888,
              "#fdca26"
             ],
             [
              1.0,
              "#f0f921"
             ]
            ],
            "type": "contour"
           }
          ],
          "contourcarpet": [
           {
            "colorbar": {
             "outlinewidth": 0,
             "ticks": ""
            },
            "type": "contourcarpet"
           }
          ],
          "heatmap": [
           {
            "colorbar": {
             "outlinewidth": 0,
             "ticks": ""
            },
            "colorscale": [
             [
              0.0,
              "#0d0887"
             ],
             [
              0.1111111111111111,
              "#46039f"
             ],
             [
              0.2222222222222222,
              "#7201a8"
             ],
             [
              0.3333333333333333,
              "#9c179e"
             ],
             [
              0.4444444444444444,
              "#bd3786"
             ],
             [
              0.5555555555555556,
              "#d8576b"
             ],
             [
              0.6666666666666666,
              "#ed7953"
             ],
             [
              0.7777777777777778,
              "#fb9f3a"
             ],
             [
              0.8888888888888888,
              "#fdca26"
             ],
             [
              1.0,
              "#f0f921"
             ]
            ],
            "type": "heatmap"
           }
          ],
          "heatmapgl": [
           {
            "colorbar": {
             "outlinewidth": 0,
             "ticks": ""
            },
            "colorscale": [
             [
              0.0,
              "#0d0887"
             ],
             [
              0.1111111111111111,
              "#46039f"
             ],
             [
              0.2222222222222222,
              "#7201a8"
             ],
             [
              0.3333333333333333,
              "#9c179e"
             ],
             [
              0.4444444444444444,
              "#bd3786"
             ],
             [
              0.5555555555555556,
              "#d8576b"
             ],
             [
              0.6666666666666666,
              "#ed7953"
             ],
             [
              0.7777777777777778,
              "#fb9f3a"
             ],
             [
              0.8888888888888888,
              "#fdca26"
             ],
             [
              1.0,
              "#f0f921"
             ]
            ],
            "type": "heatmapgl"
           }
          ],
          "histogram": [
           {
            "marker": {
             "pattern": {
              "fillmode": "overlay",
              "size": 10,
              "solidity": 0.2
             }
            },
            "type": "histogram"
           }
          ],
          "histogram2d": [
           {
            "colorbar": {
             "outlinewidth": 0,
             "ticks": ""
            },
            "colorscale": [
             [
              0.0,
              "#0d0887"
             ],
             [
              0.1111111111111111,
              "#46039f"
             ],
             [
              0.2222222222222222,
              "#7201a8"
             ],
             [
              0.3333333333333333,
              "#9c179e"
             ],
             [
              0.4444444444444444,
              "#bd3786"
             ],
             [
              0.5555555555555556,
              "#d8576b"
             ],
             [
              0.6666666666666666,
              "#ed7953"
             ],
             [
              0.7777777777777778,
              "#fb9f3a"
             ],
             [
              0.8888888888888888,
              "#fdca26"
             ],
             [
              1.0,
              "#f0f921"
             ]
            ],
            "type": "histogram2d"
           }
          ],
          "histogram2dcontour": [
           {
            "colorbar": {
             "outlinewidth": 0,
             "ticks": ""
            },
            "colorscale": [
             [
              0.0,
              "#0d0887"
             ],
             [
              0.1111111111111111,
              "#46039f"
             ],
             [
              0.2222222222222222,
              "#7201a8"
             ],
             [
              0.3333333333333333,
              "#9c179e"
             ],
             [
              0.4444444444444444,
              "#bd3786"
             ],
             [
              0.5555555555555556,
              "#d8576b"
             ],
             [
              0.6666666666666666,
              "#ed7953"
             ],
             [
              0.7777777777777778,
              "#fb9f3a"
             ],
             [
              0.8888888888888888,
              "#fdca26"
             ],
             [
              1.0,
              "#f0f921"
             ]
            ],
            "type": "histogram2dcontour"
           }
          ],
          "mesh3d": [
           {
            "colorbar": {
             "outlinewidth": 0,
             "ticks": ""
            },
            "type": "mesh3d"
           }
          ],
          "parcoords": [
           {
            "line": {
             "colorbar": {
              "outlinewidth": 0,
              "ticks": ""
             }
            },
            "type": "parcoords"
           }
          ],
          "pie": [
           {
            "automargin": true,
            "type": "pie"
           }
          ],
          "scatter": [
           {
            "marker": {
             "colorbar": {
              "outlinewidth": 0,
              "ticks": ""
             }
            },
            "type": "scatter"
           }
          ],
          "scatter3d": [
           {
            "line": {
             "colorbar": {
              "outlinewidth": 0,
              "ticks": ""
             }
            },
            "marker": {
             "colorbar": {
              "outlinewidth": 0,
              "ticks": ""
             }
            },
            "type": "scatter3d"
           }
          ],
          "scattercarpet": [
           {
            "marker": {
             "colorbar": {
              "outlinewidth": 0,
              "ticks": ""
             }
            },
            "type": "scattercarpet"
           }
          ],
          "scattergeo": [
           {
            "marker": {
             "colorbar": {
              "outlinewidth": 0,
              "ticks": ""
             }
            },
            "type": "scattergeo"
           }
          ],
          "scattergl": [
           {
            "marker": {
             "colorbar": {
              "outlinewidth": 0,
              "ticks": ""
             }
            },
            "type": "scattergl"
           }
          ],
          "scattermapbox": [
           {
            "marker": {
             "colorbar": {
              "outlinewidth": 0,
              "ticks": ""
             }
            },
            "type": "scattermapbox"
           }
          ],
          "scatterpolar": [
           {
            "marker": {
             "colorbar": {
              "outlinewidth": 0,
              "ticks": ""
             }
            },
            "type": "scatterpolar"
           }
          ],
          "scatterpolargl": [
           {
            "marker": {
             "colorbar": {
              "outlinewidth": 0,
              "ticks": ""
             }
            },
            "type": "scatterpolargl"
           }
          ],
          "scatterternary": [
           {
            "marker": {
             "colorbar": {
              "outlinewidth": 0,
              "ticks": ""
             }
            },
            "type": "scatterternary"
           }
          ],
          "surface": [
           {
            "colorbar": {
             "outlinewidth": 0,
             "ticks": ""
            },
            "colorscale": [
             [
              0.0,
              "#0d0887"
             ],
             [
              0.1111111111111111,
              "#46039f"
             ],
             [
              0.2222222222222222,
              "#7201a8"
             ],
             [
              0.3333333333333333,
              "#9c179e"
             ],
             [
              0.4444444444444444,
              "#bd3786"
             ],
             [
              0.5555555555555556,
              "#d8576b"
             ],
             [
              0.6666666666666666,
              "#ed7953"
             ],
             [
              0.7777777777777778,
              "#fb9f3a"
             ],
             [
              0.8888888888888888,
              "#fdca26"
             ],
             [
              1.0,
              "#f0f921"
             ]
            ],
            "type": "surface"
           }
          ],
          "table": [
           {
            "cells": {
             "fill": {
              "color": "#EBF0F8"
             },
             "line": {
              "color": "white"
             }
            },
            "header": {
             "fill": {
              "color": "#C8D4E3"
             },
             "line": {
              "color": "white"
             }
            },
            "type": "table"
           }
          ]
         },
         "layout": {
          "annotationdefaults": {
           "arrowcolor": "#2a3f5f",
           "arrowhead": 0,
           "arrowwidth": 1
          },
          "autotypenumbers": "strict",
          "coloraxis": {
           "colorbar": {
            "outlinewidth": 0,
            "ticks": ""
           }
          },
          "colorscale": {
           "diverging": [
            [
             0,
             "#8e0152"
            ],
            [
             0.1,
             "#c51b7d"
            ],
            [
             0.2,
             "#de77ae"
            ],
            [
             0.3,
             "#f1b6da"
            ],
            [
             0.4,
             "#fde0ef"
            ],
            [
             0.5,
             "#f7f7f7"
            ],
            [
             0.6,
             "#e6f5d0"
            ],
            [
             0.7,
             "#b8e186"
            ],
            [
             0.8,
             "#7fbc41"
            ],
            [
             0.9,
             "#4d9221"
            ],
            [
             1,
             "#276419"
            ]
           ],
           "sequential": [
            [
             0.0,
             "#0d0887"
            ],
            [
             0.1111111111111111,
             "#46039f"
            ],
            [
             0.2222222222222222,
             "#7201a8"
            ],
            [
             0.3333333333333333,
             "#9c179e"
            ],
            [
             0.4444444444444444,
             "#bd3786"
            ],
            [
             0.5555555555555556,
             "#d8576b"
            ],
            [
             0.6666666666666666,
             "#ed7953"
            ],
            [
             0.7777777777777778,
             "#fb9f3a"
            ],
            [
             0.8888888888888888,
             "#fdca26"
            ],
            [
             1.0,
             "#f0f921"
            ]
           ],
           "sequentialminus": [
            [
             0.0,
             "#0d0887"
            ],
            [
             0.1111111111111111,
             "#46039f"
            ],
            [
             0.2222222222222222,
             "#7201a8"
            ],
            [
             0.3333333333333333,
             "#9c179e"
            ],
            [
             0.4444444444444444,
             "#bd3786"
            ],
            [
             0.5555555555555556,
             "#d8576b"
            ],
            [
             0.6666666666666666,
             "#ed7953"
            ],
            [
             0.7777777777777778,
             "#fb9f3a"
            ],
            [
             0.8888888888888888,
             "#fdca26"
            ],
            [
             1.0,
             "#f0f921"
            ]
           ]
          },
          "colorway": [
           "#636efa",
           "#EF553B",
           "#00cc96",
           "#ab63fa",
           "#FFA15A",
           "#19d3f3",
           "#FF6692",
           "#B6E880",
           "#FF97FF",
           "#FECB52"
          ],
          "font": {
           "color": "#2a3f5f"
          },
          "geo": {
           "bgcolor": "white",
           "lakecolor": "white",
           "landcolor": "#E5ECF6",
           "showlakes": true,
           "showland": true,
           "subunitcolor": "white"
          },
          "hoverlabel": {
           "align": "left"
          },
          "hovermode": "closest",
          "mapbox": {
           "style": "light"
          },
          "paper_bgcolor": "white",
          "plot_bgcolor": "#E5ECF6",
          "polar": {
           "angularaxis": {
            "gridcolor": "white",
            "linecolor": "white",
            "ticks": ""
           },
           "bgcolor": "#E5ECF6",
           "radialaxis": {
            "gridcolor": "white",
            "linecolor": "white",
            "ticks": ""
           }
          },
          "scene": {
           "xaxis": {
            "backgroundcolor": "#E5ECF6",
            "gridcolor": "white",
            "gridwidth": 2,
            "linecolor": "white",
            "showbackground": true,
            "ticks": "",
            "zerolinecolor": "white"
           },
           "yaxis": {
            "backgroundcolor": "#E5ECF6",
            "gridcolor": "white",
            "gridwidth": 2,
            "linecolor": "white",
            "showbackground": true,
            "ticks": "",
            "zerolinecolor": "white"
           },
           "zaxis": {
            "backgroundcolor": "#E5ECF6",
            "gridcolor": "white",
            "gridwidth": 2,
            "linecolor": "white",
            "showbackground": true,
            "ticks": "",
            "zerolinecolor": "white"
           }
          },
          "shapedefaults": {
           "line": {
            "color": "#2a3f5f"
           }
          },
          "ternary": {
           "aaxis": {
            "gridcolor": "white",
            "linecolor": "white",
            "ticks": ""
           },
           "baxis": {
            "gridcolor": "white",
            "linecolor": "white",
            "ticks": ""
           },
           "bgcolor": "#E5ECF6",
           "caxis": {
            "gridcolor": "white",
            "linecolor": "white",
            "ticks": ""
           }
          },
          "title": {
           "x": 0.05
          },
          "xaxis": {
           "automargin": true,
           "gridcolor": "white",
           "linecolor": "white",
           "ticks": "",
           "title": {
            "standoff": 15
           },
           "zerolinecolor": "white",
           "zerolinewidth": 2
          },
          "yaxis": {
           "automargin": true,
           "gridcolor": "white",
           "linecolor": "white",
           "ticks": "",
           "title": {
            "standoff": 15
           },
           "zerolinecolor": "white",
           "zerolinewidth": 2
          }
         }
        },
        "title": {
         "text": "Peso y margen mes 03/22"
        },
        "xaxis": {
         "anchor": "y",
         "domain": [
          0.0,
          1.0
         ],
         "title": {
          "text": "Peso"
         }
        },
        "yaxis": {
         "anchor": "x",
         "domain": [
          0.0,
          1.0
         ],
         "title": {
          "text": "Margen"
         }
        }
       }
      },
      "text/html": "<div>                            <div id=\"abede2f1-04e7-4a70-9f8d-ddc3e965f184\" class=\"plotly-graph-div\" style=\"height:525px; width:100%;\"></div>            <script type=\"text/javascript\">                require([\"plotly\"], function(Plotly) {                    window.PLOTLYENV=window.PLOTLYENV || {};                                    if (document.getElementById(\"abede2f1-04e7-4a70-9f8d-ddc3e965f184\")) {                    Plotly.newPlot(                        \"abede2f1-04e7-4a70-9f8d-ddc3e965f184\",                        [{\"customdata\":[[\"Ceara\",\"Administracion Publica\",7684.18,16714,4816.56],[\"Ceara\",\"Administracion Publica\",8815.22,16116,8831.060000000001],[\"Ceara\",\"Administracion Publica\",8137.32,15757,21544.159999999996],[\"Ceara\",\"Administracion Publica\",7731.54,18700,14801.750000000004],[\"Ceara\",\"Administracion Publica\",7788.91,27008,7851.599999999999],[\"Ceara\",\"Administracion Publica\",8006.78,8555,2729.5799999999995],[\"Ceara\",\"Administracion Publica\",7713.59,21246,4047.8500000000004],[\"Ceara\",\"Administracion Publica\",7710.74,11165,2984.29],[\"Ceara\",\"Administracion Publica\",9308.8,4784,212.36],[\"Ceara\",\"Administracion Publica\",7875.07,21707,9796.86],[\"Ceara\",\"Administracion Publica\",7438.27,17584,334.33000000000004],[\"Ceara\",\"Administracion Publica\",8527.43,54687,31497.670000000006],[\"Ceara\",\"Administracion Publica\",7973.95,17210,36550.82000000001],[\"Ceara\",\"Administracion Publica\",8634.91,21342,3355.24],[\"Ceara\",\"Administracion Publica\",9353.48,15798,6283.870000000001],[\"Ceara\",\"Administracion Publica\",10373.44,14920,5865.769999999999],[\"Ceara\",\"Administracion Publica\",8051.85,11965,3063.94],[\"Ceara\",\"Administracion Publica\",9768.71,41078,18095.2],[\"Ceara\",\"Servicios\",22783.47,16356,4755.74],[\"Ceara\",\"Administracion Publica\",7703.87,7712,941.1099999999999],[\"Ceara\",\"Administracion Publica\",5749.66,21041,805.78],[\"Ceara\",\"Administracion Publica\",8013.73,7254,965.0199999999999],[\"Ceara\",\"Servicios\",14078.8,79550,9106.19],[\"Ceara\",\"Servicios\",17569.97,60232,22421.05],[\"Ceara\",\"Administracion Publica\",8777.58,48370,6607.139999999999],[\"Ceara\",\"Administracion Publica\",8761.76,7402,2578.79],[\"Ceara\",\"Administracion Publica\",8396.48,23537,24967.37],[\"Ceara\",\"Administracion Publica\",8503.8,24567,145083.99000000002],[\"Ceara\",\"Administracion Publica\",8816.46,6318,11585.12],[\"Ceara\",\"Administracion Publica\",8574.48,22834,130856.77000000003],[\"Ceara\",\"Administracion Publica\",9754.59,27513,13353.059999999998],[\"Ceara\",\"Administracion Publica\",8048.99,25612,14052.94],[\"Ceara\",\"Administracion Publica\",8754.93,27413,16397.059999999998],[\"Ceara\",\"Administracion Publica\",9974.77,12507,18905.560000000005],[\"Ceara\",\"Servicios\",14728.93,34592,11972.189999999999],[\"Ceara\",\"Administracion Publica\",8497.98,27187,8320.38],[\"Ceara\",\"Administracion Publica\",13889.97,8150,1717.4900000000002],[\"Ceara\",\"Administracion Publica\",8650.81,31476,37021.07000000001],[\"Ceara\",\"Administracion Publica\",10450.22,14351,1360.27],[\"Ceara\",\"Administracion Publica\",9689.49,19330,1962.6200000000001]],\"hovertemplate\":\"<b>%{hovertext}</b><br><br>TipoComercios=Sin Hipermercados ni Atacados<br>Peso=%{x:,.0f}<br>Poblacion=%{customdata[3]:,.0f}<br>Estado=%{customdata[0]}<br>AtividadePrincipal=%{customdata[1]}<br>PBIperCapita=%{customdata[2]:,.0f}<br>ReceitaBruta=%{customdata[4]:,.0f}<extra></extra>\",\"hovertext\":[\"Salitre\",\"Quixel\\u00f4\",\"Saboeiro\",\"Cari\\u00fas\",\"Cariria\\u00e7u\",\"Tarrafas\",\"Quiterian\\u00f3polis\",\"Potengi\",\"Granjeiro\",\"Araripe\",\"Aiuaba\",\"Acopiara\",\"Piquet Carneiro\",\"Or\\u00f3s\",\"Nova Olinda\",\"Porteiras\",\"Abaiara\",\"V\\u00e1rzea Alegre\",\"Pereiro\",\"Altaneira\",\"Catarina\",\"Erer\\u00e9\",\"Russas\",\"Limoeiro do Norte\",\"Mauriti\",\"Antonina do Norte\",\"Assar\\u00e9\",\"Aurora\",\"Baixio\",\"Barro\",\"Campos Sales\",\"Cedro\",\"Milagres\",\"Ipaumirim\",\"Jaguaribe\",\"Jardim\",\"Jati\",\"Lavras da Mangabeira\",\"Iracema\",\"Farias Brito\"],\"legendgroup\":\"Sin Hipermercados ni Atacados\",\"marker\":{\"color\":\"#636efa\",\"size\":[16714,16116,15757,18700,27008,8555,21246,11165,4784,21707,17584,54687,17210,21342,15798,14920,11965,41078,16356,7712,21041,7254,79550,60232,48370,7402,23537,24567,6318,22834,27513,25612,27413,12507,34592,27187,8150,31476,14351,19330],\"sizemode\":\"area\",\"sizeref\":695.66,\"symbol\":\"circle\"},\"mode\":\"markers\",\"name\":\"Sin Hipermercados ni Atacados\",\"orientation\":\"v\",\"showlegend\":true,\"type\":\"scatter\",\"x\":[515.56,1258.28,3752.5399999999995,1115.56,636.35,251.28000000000003,230.44,260.24,13.92,1107.26,21.2,4889.8200000000015,6969.92,312.78,372.40000000000003,1476.8,224.64000000000001,3783.2999999999993,390.76,89.88,33.120000000000005,88.8,537.62,1141.1799999999998,521.74,393.37999999999994,4788.34,37025.240000000005,2436.4600000000005,32803.96,965.02,1547.8100000000002,1499.1599999999999,2927.4399999999996,698.86,598.16,94.16,8829.039999999999,59.16,405.94],\"xaxis\":\"x\",\"y\":[1269.2099999999998,1885.58,3429.52,4350.859999999999,2234.7300000000005,793.06,1045.8700000000001,774.3799999999999,79.56,2466.6400000000003,131.65000000000003,7107.380000000001,5849.030000000001,848.1700000000001,1956.0600000000002,1308.6799999999998,813.1400000000001,2900.3600000000006,1371.8,298.68999999999994,282.18,317.58,1629.4900000000005,5152.110000000001,1821.6800000000003,507.15,4031.3499999999995,14114.839999999998,1650.5200000000004,9825.179999999993,4060.5899999999997,3729.36,4781.940000000001,4113.55,3241.0499999999997,2401.42,509.05000000000007,4674.059999999999,392.8,279.1100000000001],\"yaxis\":\"y\"},{\"customdata\":[[\"Ceara\",\"Administracion Publica\",7825.89,43917,33843.82999999999],[\"Ceara\",\"Administracion Publica\",9843.98,24949,66212.76000000001],[\"Ceara\",\"Administracion Publica\",7617.58,31391,5353.25],[\"Ceara\",\"Administracion Publica\",12428.39,9207,13069.86],[\"Ceara\",\"Administracion Publica\",11245.42,59259,10887.250000000002],[\"Ceara\",\"Agricultura\",13325.51,35566,13716.54],[\"Ceara\",\"Servicios\",17347.6,61662,97592.49],[\"Ceara\",\"Administracion Publica\",13660.13,50195,33593.29],[\"Ceara\",\"Servicios\",16312.75,61590,308.7],[\"Ceara\",\"Administracion Publica\",9019.17,68303,18737.170000000002],[\"Ceara\",\"Servicios\",16562.4,103633,190133.23],[\"Ceara\",\"Servicios\",13315.64,133913,7074.46]],\"hovertemplate\":\"<b>%{hovertext}</b><br><br>TipoComercios=< 5 Atacados e Hipermercados<br>Peso=%{x:,.0f}<br>Poblacion=%{customdata[3]:,.0f}<br>Estado=%{customdata[0]}<br>AtividadePrincipal=%{customdata[1]}<br>PBIperCapita=%{customdata[2]:,.0f}<br>ReceitaBruta=%{customdata[4]:,.0f}<extra></extra>\",\"hovertext\":[\"Momba\\u00e7a\",\"Juc\\u00e1s\",\"Parambu\",\"Penaforte\",\"Tau\\u00e1\",\"Miss\\u00e3o Velha\",\"Barbalha\",\"Brejo Santo\",\"Morada Nova\",\"Ic\\u00f3\",\"Iguatu\",\"Crato\"],\"legendgroup\":\"< 5 Atacados e Hipermercados\",\"marker\":{\"color\":\"#EF553B\",\"size\":[43917,24949,31391,9207,59259,35566,61662,50195,61590,68303,103633,133913],\"sizemode\":\"area\",\"sizeref\":695.66,\"symbol\":\"circle\"},\"mode\":\"markers\",\"name\":\"< 5 Atacados e Hipermercados\",\"orientation\":\"v\",\"showlegend\":true,\"type\":\"scatter\",\"x\":[3574.7200000000003,16953.88,577.94,1096.06,784.7199999999999,1561.1400000000003,26493.809999999998,2835.1199999999994,22.6,1311.42,45689.18000000001,722.9200000000001],\"xaxis\":\"x\",\"y\":[8207.8,6118.139999999995,1650.9800000000002,3585.3599999999997,3074.24,3399.9599999999996,2929.0499999999984,9528.010000000002,87.53,5428.22,11642.799999999996,1951.1100000000001],\"yaxis\":\"y\"},{\"customdata\":[[\"Ceara\",\"Servicios\",17772.55,278264,301514.95]],\"hovertemplate\":\"<b>%{hovertext}</b><br><br>TipoComercios=> 10 Atacados e Hipermercados<br>Peso=%{x:,.0f}<br>Poblacion=%{customdata[3]:,.0f}<br>Estado=%{customdata[0]}<br>AtividadePrincipal=%{customdata[1]}<br>PBIperCapita=%{customdata[2]:,.0f}<br>ReceitaBruta=%{customdata[4]:,.0f}<extra></extra>\",\"hovertext\":[\"Juazeiro do Norte\"],\"legendgroup\":\"> 10 Atacados e Hipermercados\",\"marker\":{\"color\":\"#00cc96\",\"size\":[278264],\"sizemode\":\"area\",\"sizeref\":695.66,\"symbol\":\"circle\"},\"mode\":\"markers\",\"name\":\"> 10 Atacados e Hipermercados\",\"orientation\":\"v\",\"showlegend\":true,\"type\":\"scatter\",\"x\":[59242.90000000002],\"xaxis\":\"x\",\"y\":[51200.74],\"yaxis\":\"y\"}],                        {\"legend\":{\"itemsizing\":\"constant\",\"title\":{\"text\":\"TipoComercios\"},\"tracegroupgap\":0},\"template\":{\"data\":{\"bar\":[{\"error_x\":{\"color\":\"#2a3f5f\"},\"error_y\":{\"color\":\"#2a3f5f\"},\"marker\":{\"line\":{\"color\":\"#E5ECF6\",\"width\":0.5},\"pattern\":{\"fillmode\":\"overlay\",\"size\":10,\"solidity\":0.2}},\"type\":\"bar\"}],\"barpolar\":[{\"marker\":{\"line\":{\"color\":\"#E5ECF6\",\"width\":0.5},\"pattern\":{\"fillmode\":\"overlay\",\"size\":10,\"solidity\":0.2}},\"type\":\"barpolar\"}],\"carpet\":[{\"aaxis\":{\"endlinecolor\":\"#2a3f5f\",\"gridcolor\":\"white\",\"linecolor\":\"white\",\"minorgridcolor\":\"white\",\"startlinecolor\":\"#2a3f5f\"},\"baxis\":{\"endlinecolor\":\"#2a3f5f\",\"gridcolor\":\"white\",\"linecolor\":\"white\",\"minorgridcolor\":\"white\",\"startlinecolor\":\"#2a3f5f\"},\"type\":\"carpet\"}],\"choropleth\":[{\"colorbar\":{\"outlinewidth\":0,\"ticks\":\"\"},\"type\":\"choropleth\"}],\"contour\":[{\"colorbar\":{\"outlinewidth\":0,\"ticks\":\"\"},\"colorscale\":[[0.0,\"#0d0887\"],[0.1111111111111111,\"#46039f\"],[0.2222222222222222,\"#7201a8\"],[0.3333333333333333,\"#9c179e\"],[0.4444444444444444,\"#bd3786\"],[0.5555555555555556,\"#d8576b\"],[0.6666666666666666,\"#ed7953\"],[0.7777777777777778,\"#fb9f3a\"],[0.8888888888888888,\"#fdca26\"],[1.0,\"#f0f921\"]],\"type\":\"contour\"}],\"contourcarpet\":[{\"colorbar\":{\"outlinewidth\":0,\"ticks\":\"\"},\"type\":\"contourcarpet\"}],\"heatmap\":[{\"colorbar\":{\"outlinewidth\":0,\"ticks\":\"\"},\"colorscale\":[[0.0,\"#0d0887\"],[0.1111111111111111,\"#46039f\"],[0.2222222222222222,\"#7201a8\"],[0.3333333333333333,\"#9c179e\"],[0.4444444444444444,\"#bd3786\"],[0.5555555555555556,\"#d8576b\"],[0.6666666666666666,\"#ed7953\"],[0.7777777777777778,\"#fb9f3a\"],[0.8888888888888888,\"#fdca26\"],[1.0,\"#f0f921\"]],\"type\":\"heatmap\"}],\"heatmapgl\":[{\"colorbar\":{\"outlinewidth\":0,\"ticks\":\"\"},\"colorscale\":[[0.0,\"#0d0887\"],[0.1111111111111111,\"#46039f\"],[0.2222222222222222,\"#7201a8\"],[0.3333333333333333,\"#9c179e\"],[0.4444444444444444,\"#bd3786\"],[0.5555555555555556,\"#d8576b\"],[0.6666666666666666,\"#ed7953\"],[0.7777777777777778,\"#fb9f3a\"],[0.8888888888888888,\"#fdca26\"],[1.0,\"#f0f921\"]],\"type\":\"heatmapgl\"}],\"histogram\":[{\"marker\":{\"pattern\":{\"fillmode\":\"overlay\",\"size\":10,\"solidity\":0.2}},\"type\":\"histogram\"}],\"histogram2d\":[{\"colorbar\":{\"outlinewidth\":0,\"ticks\":\"\"},\"colorscale\":[[0.0,\"#0d0887\"],[0.1111111111111111,\"#46039f\"],[0.2222222222222222,\"#7201a8\"],[0.3333333333333333,\"#9c179e\"],[0.4444444444444444,\"#bd3786\"],[0.5555555555555556,\"#d8576b\"],[0.6666666666666666,\"#ed7953\"],[0.7777777777777778,\"#fb9f3a\"],[0.8888888888888888,\"#fdca26\"],[1.0,\"#f0f921\"]],\"type\":\"histogram2d\"}],\"histogram2dcontour\":[{\"colorbar\":{\"outlinewidth\":0,\"ticks\":\"\"},\"colorscale\":[[0.0,\"#0d0887\"],[0.1111111111111111,\"#46039f\"],[0.2222222222222222,\"#7201a8\"],[0.3333333333333333,\"#9c179e\"],[0.4444444444444444,\"#bd3786\"],[0.5555555555555556,\"#d8576b\"],[0.6666666666666666,\"#ed7953\"],[0.7777777777777778,\"#fb9f3a\"],[0.8888888888888888,\"#fdca26\"],[1.0,\"#f0f921\"]],\"type\":\"histogram2dcontour\"}],\"mesh3d\":[{\"colorbar\":{\"outlinewidth\":0,\"ticks\":\"\"},\"type\":\"mesh3d\"}],\"parcoords\":[{\"line\":{\"colorbar\":{\"outlinewidth\":0,\"ticks\":\"\"}},\"type\":\"parcoords\"}],\"pie\":[{\"automargin\":true,\"type\":\"pie\"}],\"scatter\":[{\"marker\":{\"colorbar\":{\"outlinewidth\":0,\"ticks\":\"\"}},\"type\":\"scatter\"}],\"scatter3d\":[{\"line\":{\"colorbar\":{\"outlinewidth\":0,\"ticks\":\"\"}},\"marker\":{\"colorbar\":{\"outlinewidth\":0,\"ticks\":\"\"}},\"type\":\"scatter3d\"}],\"scattercarpet\":[{\"marker\":{\"colorbar\":{\"outlinewidth\":0,\"ticks\":\"\"}},\"type\":\"scattercarpet\"}],\"scattergeo\":[{\"marker\":{\"colorbar\":{\"outlinewidth\":0,\"ticks\":\"\"}},\"type\":\"scattergeo\"}],\"scattergl\":[{\"marker\":{\"colorbar\":{\"outlinewidth\":0,\"ticks\":\"\"}},\"type\":\"scattergl\"}],\"scattermapbox\":[{\"marker\":{\"colorbar\":{\"outlinewidth\":0,\"ticks\":\"\"}},\"type\":\"scattermapbox\"}],\"scatterpolar\":[{\"marker\":{\"colorbar\":{\"outlinewidth\":0,\"ticks\":\"\"}},\"type\":\"scatterpolar\"}],\"scatterpolargl\":[{\"marker\":{\"colorbar\":{\"outlinewidth\":0,\"ticks\":\"\"}},\"type\":\"scatterpolargl\"}],\"scatterternary\":[{\"marker\":{\"colorbar\":{\"outlinewidth\":0,\"ticks\":\"\"}},\"type\":\"scatterternary\"}],\"surface\":[{\"colorbar\":{\"outlinewidth\":0,\"ticks\":\"\"},\"colorscale\":[[0.0,\"#0d0887\"],[0.1111111111111111,\"#46039f\"],[0.2222222222222222,\"#7201a8\"],[0.3333333333333333,\"#9c179e\"],[0.4444444444444444,\"#bd3786\"],[0.5555555555555556,\"#d8576b\"],[0.6666666666666666,\"#ed7953\"],[0.7777777777777778,\"#fb9f3a\"],[0.8888888888888888,\"#fdca26\"],[1.0,\"#f0f921\"]],\"type\":\"surface\"}],\"table\":[{\"cells\":{\"fill\":{\"color\":\"#EBF0F8\"},\"line\":{\"color\":\"white\"}},\"header\":{\"fill\":{\"color\":\"#C8D4E3\"},\"line\":{\"color\":\"white\"}},\"type\":\"table\"}]},\"layout\":{\"annotationdefaults\":{\"arrowcolor\":\"#2a3f5f\",\"arrowhead\":0,\"arrowwidth\":1},\"autotypenumbers\":\"strict\",\"coloraxis\":{\"colorbar\":{\"outlinewidth\":0,\"ticks\":\"\"}},\"colorscale\":{\"diverging\":[[0,\"#8e0152\"],[0.1,\"#c51b7d\"],[0.2,\"#de77ae\"],[0.3,\"#f1b6da\"],[0.4,\"#fde0ef\"],[0.5,\"#f7f7f7\"],[0.6,\"#e6f5d0\"],[0.7,\"#b8e186\"],[0.8,\"#7fbc41\"],[0.9,\"#4d9221\"],[1,\"#276419\"]],\"sequential\":[[0.0,\"#0d0887\"],[0.1111111111111111,\"#46039f\"],[0.2222222222222222,\"#7201a8\"],[0.3333333333333333,\"#9c179e\"],[0.4444444444444444,\"#bd3786\"],[0.5555555555555556,\"#d8576b\"],[0.6666666666666666,\"#ed7953\"],[0.7777777777777778,\"#fb9f3a\"],[0.8888888888888888,\"#fdca26\"],[1.0,\"#f0f921\"]],\"sequentialminus\":[[0.0,\"#0d0887\"],[0.1111111111111111,\"#46039f\"],[0.2222222222222222,\"#7201a8\"],[0.3333333333333333,\"#9c179e\"],[0.4444444444444444,\"#bd3786\"],[0.5555555555555556,\"#d8576b\"],[0.6666666666666666,\"#ed7953\"],[0.7777777777777778,\"#fb9f3a\"],[0.8888888888888888,\"#fdca26\"],[1.0,\"#f0f921\"]]},\"colorway\":[\"#636efa\",\"#EF553B\",\"#00cc96\",\"#ab63fa\",\"#FFA15A\",\"#19d3f3\",\"#FF6692\",\"#B6E880\",\"#FF97FF\",\"#FECB52\"],\"font\":{\"color\":\"#2a3f5f\"},\"geo\":{\"bgcolor\":\"white\",\"lakecolor\":\"white\",\"landcolor\":\"#E5ECF6\",\"showlakes\":true,\"showland\":true,\"subunitcolor\":\"white\"},\"hoverlabel\":{\"align\":\"left\"},\"hovermode\":\"closest\",\"mapbox\":{\"style\":\"light\"},\"paper_bgcolor\":\"white\",\"plot_bgcolor\":\"#E5ECF6\",\"polar\":{\"angularaxis\":{\"gridcolor\":\"white\",\"linecolor\":\"white\",\"ticks\":\"\"},\"bgcolor\":\"#E5ECF6\",\"radialaxis\":{\"gridcolor\":\"white\",\"linecolor\":\"white\",\"ticks\":\"\"}},\"scene\":{\"xaxis\":{\"backgroundcolor\":\"#E5ECF6\",\"gridcolor\":\"white\",\"gridwidth\":2,\"linecolor\":\"white\",\"showbackground\":true,\"ticks\":\"\",\"zerolinecolor\":\"white\"},\"yaxis\":{\"backgroundcolor\":\"#E5ECF6\",\"gridcolor\":\"white\",\"gridwidth\":2,\"linecolor\":\"white\",\"showbackground\":true,\"ticks\":\"\",\"zerolinecolor\":\"white\"},\"zaxis\":{\"backgroundcolor\":\"#E5ECF6\",\"gridcolor\":\"white\",\"gridwidth\":2,\"linecolor\":\"white\",\"showbackground\":true,\"ticks\":\"\",\"zerolinecolor\":\"white\"}},\"shapedefaults\":{\"line\":{\"color\":\"#2a3f5f\"}},\"ternary\":{\"aaxis\":{\"gridcolor\":\"white\",\"linecolor\":\"white\",\"ticks\":\"\"},\"baxis\":{\"gridcolor\":\"white\",\"linecolor\":\"white\",\"ticks\":\"\"},\"bgcolor\":\"#E5ECF6\",\"caxis\":{\"gridcolor\":\"white\",\"linecolor\":\"white\",\"ticks\":\"\"}},\"title\":{\"x\":0.05},\"xaxis\":{\"automargin\":true,\"gridcolor\":\"white\",\"linecolor\":\"white\",\"ticks\":\"\",\"title\":{\"standoff\":15},\"zerolinecolor\":\"white\",\"zerolinewidth\":2},\"yaxis\":{\"automargin\":true,\"gridcolor\":\"white\",\"linecolor\":\"white\",\"ticks\":\"\",\"title\":{\"standoff\":15},\"zerolinecolor\":\"white\",\"zerolinewidth\":2}}},\"title\":{\"text\":\"Peso y margen mes 03/22\"},\"xaxis\":{\"anchor\":\"y\",\"domain\":[0.0,1.0],\"title\":{\"text\":\"Peso\"}},\"yaxis\":{\"anchor\":\"x\",\"domain\":[0.0,1.0],\"title\":{\"text\":\"Margen\"}}},                        {\"responsive\": true}                    ).then(function(){\n                            \nvar gd = document.getElementById('abede2f1-04e7-4a70-9f8d-ddc3e965f184');\nvar x = new MutationObserver(function (mutations, observer) {{\n        var display = window.getComputedStyle(gd).display;\n        if (!display || display === 'none') {{\n            console.log([gd, 'removed!']);\n            Plotly.purge(gd);\n            observer.disconnect();\n        }}\n}});\n\n// Listen for the removal of the full notebook cells\nvar notebookContainer = gd.closest('#notebook-container');\nif (notebookContainer) {{\n    x.observe(notebookContainer, {childList: true});\n}}\n\n// Listen for the clearing of the current output cell\nvar outputEl = gd.closest('.output');\nif (outputEl) {{\n    x.observe(outputEl, {childList: true});\n}}\n\n                        })                };                });            </script>        </div>"
     },
     "metadata": {},
     "output_type": "display_data"
    }
   ],
   "source": [
    "fig = px.scatter(ventas_tot_mun_22,\n",
    "                 x = 'Peso',\n",
    "                 y = 'Margen',\n",
    "                 category_orders = {'Desarrollo': opciones_desarrollo},\n",
    "                 size = 'Poblacion',\n",
    "                 hover_name= 'Municipio',\n",
    "                 hover_data= {'Estado' : True,\n",
    "                              'AtividadePrincipal' : True,\n",
    "                              'Margen' : False,\n",
    "                              'Peso' : ':,.0f',\n",
    "                              'PBIperCapita' : ':,.0f',\n",
    "                              'Poblacion' : ':,.0f',\n",
    "                              'ReceitaBruta' : ':,.0f'},\n",
    "                 color = 'TipoComercios',\n",
    "                 title= f'Peso y margen mes {mes}'\n",
    "                 )\n",
    "fig.show()"
   ],
   "metadata": {
    "collapsed": false,
    "pycharm": {
     "name": "#%%\n"
    }
   }
  },
  {
   "cell_type": "code",
   "execution_count": 99,
   "outputs": [
    {
     "data": {
      "application/vnd.plotly.v1+json": {
       "config": {
        "plotlyServerURL": "https://plot.ly"
       },
       "data": [
        {
         "customdata": [
          [
           "Ceara",
           "Administracion Publica",
           7684.18,
           16714,
           0.54,
           4816.56
          ],
          [
           "Ceara",
           "Administracion Publica",
           8815.22,
           16116,
           0.591,
           8831.060000000001
          ],
          [
           "Ceara",
           "Administracion Publica",
           8137.32,
           15757,
           0.575,
           21544.159999999996
          ],
          [
           "Ceara",
           "Administracion Publica",
           7825.89,
           43917,
           0.582,
           33843.82999999999
          ],
          [
           "Ceara",
           "Administracion Publica",
           7731.54,
           18700,
           0.597,
           14801.750000000004
          ],
          [
           "Ceara",
           "Administracion Publica",
           7788.91,
           27008,
           0.578,
           7851.599999999999
          ],
          [
           "Ceara",
           "Administracion Publica",
           8006.78,
           8555,
           0.576,
           2729.5799999999995
          ],
          [
           "Ceara",
           "Administracion Publica",
           7713.59,
           21246,
           0.594,
           4047.8500000000004
          ],
          [
           "Ceara",
           "Administracion Publica",
           7710.74,
           11165,
           0.562,
           2984.29
          ],
          [
           "Ceara",
           "Administracion Publica",
           9843.98,
           24949,
           0.598,
           66212.76000000001
          ],
          [
           "Ceara",
           "Administracion Publica",
           9308.8,
           4784,
           0.585,
           212.36
          ],
          [
           "Ceara",
           "Administracion Publica",
           7875.07,
           21707,
           0.564,
           9796.86
          ],
          [
           "Ceara",
           "Administracion Publica",
           7438.27,
           17584,
           0.569,
           334.33000000000004
          ],
          [
           "Ceara",
           "Administracion Publica",
           8527.43,
           54687,
           0.595,
           31497.670000000006
          ],
          [
           "Ceara",
           "Administracion Publica",
           7617.58,
           31391,
           0.57,
           5353.25
          ]
         ],
         "hovertemplate": "<b>%{hovertext}</b><br><br>Desarrollo=Bajo<br>Peso=%{x:,.0f}<br>Poblacion=%{customdata[3]:,.0f}<br>AtividadePrincipal=%{customdata[1]}<br>PBIperCapita=%{customdata[2]:,.0f}<br>IDHM=%{customdata[4]:,.2f}<br>ReceitaBruta=%{customdata[5]:,.0f}<extra></extra>",
         "hovertext": [
          "Salitre",
          "Quixelô",
          "Saboeiro",
          "Mombaça",
          "Cariús",
          "Caririaçu",
          "Tarrafas",
          "Quiterianópolis",
          "Potengi",
          "Jucás",
          "Granjeiro",
          "Araripe",
          "Aiuaba",
          "Acopiara",
          "Parambu"
         ],
         "legendgroup": "Bajo",
         "marker": {
          "color": "#636efa",
          "size": [
           16714,
           16116,
           15757,
           43917,
           18700,
           27008,
           8555,
           21246,
           11165,
           24949,
           4784,
           21707,
           17584,
           54687,
           31391
          ],
          "sizemode": "area",
          "sizeref": 77.29555555555555,
          "symbol": "circle"
         },
         "mode": "markers",
         "name": "Bajo",
         "orientation": "v",
         "showlegend": true,
         "type": "scatter",
         "x": [
          515.56,
          1258.28,
          3752.5399999999995,
          3574.7200000000003,
          1115.56,
          636.35,
          251.28000000000003,
          230.44,
          260.24,
          16953.88,
          13.92,
          1107.26,
          21.2,
          4889.8200000000015,
          577.94
         ],
         "xaxis": "x",
         "y": [
          1269.2099999999998,
          1885.58,
          3429.52,
          8207.8,
          4350.859999999999,
          2234.7300000000005,
          793.06,
          1045.8700000000001,
          774.3799999999999,
          6118.139999999995,
          79.56,
          2466.6400000000003,
          131.65000000000003,
          7107.380000000001,
          1650.9800000000002
         ],
         "yaxis": "y"
        },
        {
         "customdata": [
          [
           "Ceara",
           "Administracion Publica",
           7973.95,
           17210,
           0.6,
           36550.82000000001
          ],
          [
           "Ceara",
           "Administracion Publica",
           8634.91,
           21342,
           0.636,
           3355.24
          ],
          [
           "Ceara",
           "Administracion Publica",
           9353.48,
           15798,
           0.625,
           6283.870000000001
          ],
          [
           "Ceara",
           "Administracion Publica",
           10373.44,
           14920,
           0.622,
           5865.769999999999
          ],
          [
           "Ceara",
           "Administracion Publica",
           12428.39,
           9207,
           0.646,
           13069.86
          ],
          [
           "Ceara",
           "Administracion Publica",
           8051.85,
           11965,
           0.628,
           3063.94
          ],
          [
           "Ceara",
           "Administracion Publica",
           11245.42,
           59259,
           0.633,
           10887.250000000002
          ],
          [
           "Ceara",
           "Administracion Publica",
           9768.71,
           41078,
           0.629,
           18095.2
          ],
          [
           "Ceara",
           "Servicios",
           22783.47,
           16356,
           0.601,
           4755.74
          ],
          [
           "Ceara",
           "Administracion Publica",
           7703.87,
           7712,
           0.602,
           941.1099999999999
          ],
          [
           "Ceara",
           "Administracion Publica",
           5749.66,
           21041,
           0.618,
           805.78
          ],
          [
           "Ceara",
           "Administracion Publica",
           8013.73,
           7254,
           0.61,
           965.0199999999999
          ],
          [
           "Ceara",
           "Servicios",
           14078.8,
           79550,
           0.674,
           9106.19
          ],
          [
           "Ceara",
           "Agricultura",
           13325.51,
           35566,
           0.622,
           13716.54
          ],
          [
           "Ceara",
           "Servicios",
           17569.97,
           60232,
           0.682,
           22421.05
          ],
          [
           "Ceara",
           "Administracion Publica",
           8777.58,
           48370,
           0.605,
           6607.139999999999
          ],
          [
           "Ceara",
           "Administracion Publica",
           8761.76,
           7402,
           0.599,
           2578.79
          ],
          [
           "Ceara",
           "Administracion Publica",
           8396.48,
           23537,
           0.6,
           24967.37
          ],
          [
           "Ceara",
           "Administracion Publica",
           8503.8,
           24567,
           0.605,
           145083.99000000002
          ],
          [
           "Ceara",
           "Administracion Publica",
           8816.46,
           6318,
           0.627,
           11585.12
          ],
          [
           "Ceara",
           "Servicios",
           17347.6,
           61662,
           0.683,
           97592.49
          ],
          [
           "Ceara",
           "Administracion Publica",
           8574.48,
           22834,
           0.599,
           130856.77000000003
          ],
          [
           "Ceara",
           "Administracion Publica",
           13660.13,
           50195,
           0.647,
           33593.29
          ],
          [
           "Ceara",
           "Administracion Publica",
           9754.59,
           27513,
           0.63,
           13353.059999999998
          ],
          [
           "Ceara",
           "Administracion Publica",
           8048.99,
           25612,
           0.627,
           14052.94
          ],
          [
           "Ceara",
           "Administracion Publica",
           8754.93,
           27413,
           0.628,
           16397.059999999998
          ],
          [
           "Ceara",
           "Servicios",
           16312.75,
           61590,
           0.61,
           308.7
          ],
          [
           "Ceara",
           "Administracion Publica",
           9019.17,
           68303,
           0.606,
           18737.170000000002
          ],
          [
           "Ceara",
           "Servicios",
           16562.4,
           103633,
           0.677,
           190133.23
          ],
          [
           "Ceara",
           "Administracion Publica",
           9974.77,
           12507,
           0.606,
           18905.560000000005
          ],
          [
           "Ceara",
           "Servicios",
           14728.93,
           34592,
           0.621,
           11972.189999999999
          ],
          [
           "Ceara",
           "Administracion Publica",
           8497.98,
           27187,
           0.614,
           8320.38
          ],
          [
           "Ceara",
           "Administracion Publica",
           13889.97,
           8150,
           0.651,
           1717.4900000000002
          ],
          [
           "Ceara",
           "Servicios",
           17772.55,
           278264,
           0.694,
           301514.95
          ],
          [
           "Ceara",
           "Administracion Publica",
           8650.81,
           31476,
           0.613,
           37021.07000000001
          ],
          [
           "Ceara",
           "Administracion Publica",
           10450.22,
           14351,
           0.652,
           1360.27
          ],
          [
           "Ceara",
           "Administracion Publica",
           9689.49,
           19330,
           0.633,
           1962.6200000000001
          ]
         ],
         "hovertemplate": "<b>%{hovertext}</b><br><br>Desarrollo=Medio<br>Peso=%{x:,.0f}<br>Poblacion=%{customdata[3]:,.0f}<br>AtividadePrincipal=%{customdata[1]}<br>PBIperCapita=%{customdata[2]:,.0f}<br>IDHM=%{customdata[4]:,.2f}<br>ReceitaBruta=%{customdata[5]:,.0f}<extra></extra>",
         "hovertext": [
          "Piquet Carneiro",
          "Orós",
          "Nova Olinda",
          "Porteiras",
          "Penaforte",
          "Abaiara",
          "Tauá",
          "Várzea Alegre",
          "Pereiro",
          "Altaneira",
          "Catarina",
          "Ereré",
          "Russas",
          "Missão Velha",
          "Limoeiro do Norte",
          "Mauriti",
          "Antonina do Norte",
          "Assaré",
          "Aurora",
          "Baixio",
          "Barbalha",
          "Barro",
          "Brejo Santo",
          "Campos Sales",
          "Cedro",
          "Milagres",
          "Morada Nova",
          "Icó",
          "Iguatu",
          "Ipaumirim",
          "Jaguaribe",
          "Jardim",
          "Jati",
          "Juazeiro do Norte",
          "Lavras da Mangabeira",
          "Iracema",
          "Farias Brito"
         ],
         "legendgroup": "Medio",
         "marker": {
          "color": "#EF553B",
          "size": [
           17210,
           21342,
           15798,
           14920,
           9207,
           11965,
           59259,
           41078,
           16356,
           7712,
           21041,
           7254,
           79550,
           35566,
           60232,
           48370,
           7402,
           23537,
           24567,
           6318,
           61662,
           22834,
           50195,
           27513,
           25612,
           27413,
           61590,
           68303,
           103633,
           12507,
           34592,
           27187,
           8150,
           278264,
           31476,
           14351,
           19330
          ],
          "sizemode": "area",
          "sizeref": 77.29555555555555,
          "symbol": "circle"
         },
         "mode": "markers",
         "name": "Medio",
         "orientation": "v",
         "showlegend": true,
         "type": "scatter",
         "x": [
          6969.92,
          312.78,
          372.40000000000003,
          1476.8,
          1096.06,
          224.64000000000001,
          784.7199999999999,
          3783.2999999999993,
          390.76,
          89.88,
          33.120000000000005,
          88.8,
          537.62,
          1561.1400000000003,
          1141.1799999999998,
          521.74,
          393.37999999999994,
          4788.34,
          37025.240000000005,
          2436.4600000000005,
          26493.809999999998,
          32803.96,
          2835.1199999999994,
          965.02,
          1547.8100000000002,
          1499.1599999999999,
          22.6,
          1311.42,
          45689.18000000001,
          2927.4399999999996,
          698.86,
          598.16,
          94.16,
          59242.90000000002,
          8829.039999999999,
          59.16,
          405.94
         ],
         "xaxis": "x",
         "y": [
          5849.030000000001,
          848.1700000000001,
          1956.0600000000002,
          1308.6799999999998,
          3585.3599999999997,
          813.1400000000001,
          3074.24,
          2900.3600000000006,
          1371.8,
          298.68999999999994,
          282.18,
          317.58,
          1629.4900000000005,
          3399.9599999999996,
          5152.110000000001,
          1821.6800000000003,
          507.15,
          4031.3499999999995,
          14114.839999999998,
          1650.5200000000004,
          2929.0499999999984,
          9825.179999999993,
          9528.010000000002,
          4060.5899999999997,
          3729.36,
          4781.940000000001,
          87.53,
          5428.22,
          11642.799999999996,
          4113.55,
          3241.0499999999997,
          2401.42,
          509.05000000000007,
          51200.74,
          4674.059999999999,
          392.8,
          279.1100000000001
         ],
         "yaxis": "y"
        },
        {
         "customdata": [
          [
           "Ceara",
           "Servicios",
           13315.64,
           133913,
           0.713,
           7074.46
          ]
         ],
         "hovertemplate": "<b>%{hovertext}</b><br><br>Desarrollo=Alto<br>Peso=%{x:,.0f}<br>Poblacion=%{customdata[3]:,.0f}<br>AtividadePrincipal=%{customdata[1]}<br>PBIperCapita=%{customdata[2]:,.0f}<br>IDHM=%{customdata[4]:,.2f}<br>ReceitaBruta=%{customdata[5]:,.0f}<extra></extra>",
         "hovertext": [
          "Crato"
         ],
         "legendgroup": "Alto",
         "marker": {
          "color": "#00cc96",
          "size": [
           133913
          ],
          "sizemode": "area",
          "sizeref": 77.29555555555555,
          "symbol": "circle"
         },
         "mode": "markers",
         "name": "Alto",
         "orientation": "v",
         "showlegend": true,
         "type": "scatter",
         "x": [
          722.9200000000001
         ],
         "xaxis": "x",
         "y": [
          1951.1100000000001
         ],
         "yaxis": "y"
        }
       ],
       "layout": {
        "legend": {
         "itemsizing": "constant",
         "title": {
          "text": "Desarrollo"
         },
         "tracegroupgap": 0
        },
        "template": {
         "data": {
          "bar": [
           {
            "error_x": {
             "color": "#2a3f5f"
            },
            "error_y": {
             "color": "#2a3f5f"
            },
            "marker": {
             "line": {
              "color": "#E5ECF6",
              "width": 0.5
             },
             "pattern": {
              "fillmode": "overlay",
              "size": 10,
              "solidity": 0.2
             }
            },
            "type": "bar"
           }
          ],
          "barpolar": [
           {
            "marker": {
             "line": {
              "color": "#E5ECF6",
              "width": 0.5
             },
             "pattern": {
              "fillmode": "overlay",
              "size": 10,
              "solidity": 0.2
             }
            },
            "type": "barpolar"
           }
          ],
          "carpet": [
           {
            "aaxis": {
             "endlinecolor": "#2a3f5f",
             "gridcolor": "white",
             "linecolor": "white",
             "minorgridcolor": "white",
             "startlinecolor": "#2a3f5f"
            },
            "baxis": {
             "endlinecolor": "#2a3f5f",
             "gridcolor": "white",
             "linecolor": "white",
             "minorgridcolor": "white",
             "startlinecolor": "#2a3f5f"
            },
            "type": "carpet"
           }
          ],
          "choropleth": [
           {
            "colorbar": {
             "outlinewidth": 0,
             "ticks": ""
            },
            "type": "choropleth"
           }
          ],
          "contour": [
           {
            "colorbar": {
             "outlinewidth": 0,
             "ticks": ""
            },
            "colorscale": [
             [
              0.0,
              "#0d0887"
             ],
             [
              0.1111111111111111,
              "#46039f"
             ],
             [
              0.2222222222222222,
              "#7201a8"
             ],
             [
              0.3333333333333333,
              "#9c179e"
             ],
             [
              0.4444444444444444,
              "#bd3786"
             ],
             [
              0.5555555555555556,
              "#d8576b"
             ],
             [
              0.6666666666666666,
              "#ed7953"
             ],
             [
              0.7777777777777778,
              "#fb9f3a"
             ],
             [
              0.8888888888888888,
              "#fdca26"
             ],
             [
              1.0,
              "#f0f921"
             ]
            ],
            "type": "contour"
           }
          ],
          "contourcarpet": [
           {
            "colorbar": {
             "outlinewidth": 0,
             "ticks": ""
            },
            "type": "contourcarpet"
           }
          ],
          "heatmap": [
           {
            "colorbar": {
             "outlinewidth": 0,
             "ticks": ""
            },
            "colorscale": [
             [
              0.0,
              "#0d0887"
             ],
             [
              0.1111111111111111,
              "#46039f"
             ],
             [
              0.2222222222222222,
              "#7201a8"
             ],
             [
              0.3333333333333333,
              "#9c179e"
             ],
             [
              0.4444444444444444,
              "#bd3786"
             ],
             [
              0.5555555555555556,
              "#d8576b"
             ],
             [
              0.6666666666666666,
              "#ed7953"
             ],
             [
              0.7777777777777778,
              "#fb9f3a"
             ],
             [
              0.8888888888888888,
              "#fdca26"
             ],
             [
              1.0,
              "#f0f921"
             ]
            ],
            "type": "heatmap"
           }
          ],
          "heatmapgl": [
           {
            "colorbar": {
             "outlinewidth": 0,
             "ticks": ""
            },
            "colorscale": [
             [
              0.0,
              "#0d0887"
             ],
             [
              0.1111111111111111,
              "#46039f"
             ],
             [
              0.2222222222222222,
              "#7201a8"
             ],
             [
              0.3333333333333333,
              "#9c179e"
             ],
             [
              0.4444444444444444,
              "#bd3786"
             ],
             [
              0.5555555555555556,
              "#d8576b"
             ],
             [
              0.6666666666666666,
              "#ed7953"
             ],
             [
              0.7777777777777778,
              "#fb9f3a"
             ],
             [
              0.8888888888888888,
              "#fdca26"
             ],
             [
              1.0,
              "#f0f921"
             ]
            ],
            "type": "heatmapgl"
           }
          ],
          "histogram": [
           {
            "marker": {
             "pattern": {
              "fillmode": "overlay",
              "size": 10,
              "solidity": 0.2
             }
            },
            "type": "histogram"
           }
          ],
          "histogram2d": [
           {
            "colorbar": {
             "outlinewidth": 0,
             "ticks": ""
            },
            "colorscale": [
             [
              0.0,
              "#0d0887"
             ],
             [
              0.1111111111111111,
              "#46039f"
             ],
             [
              0.2222222222222222,
              "#7201a8"
             ],
             [
              0.3333333333333333,
              "#9c179e"
             ],
             [
              0.4444444444444444,
              "#bd3786"
             ],
             [
              0.5555555555555556,
              "#d8576b"
             ],
             [
              0.6666666666666666,
              "#ed7953"
             ],
             [
              0.7777777777777778,
              "#fb9f3a"
             ],
             [
              0.8888888888888888,
              "#fdca26"
             ],
             [
              1.0,
              "#f0f921"
             ]
            ],
            "type": "histogram2d"
           }
          ],
          "histogram2dcontour": [
           {
            "colorbar": {
             "outlinewidth": 0,
             "ticks": ""
            },
            "colorscale": [
             [
              0.0,
              "#0d0887"
             ],
             [
              0.1111111111111111,
              "#46039f"
             ],
             [
              0.2222222222222222,
              "#7201a8"
             ],
             [
              0.3333333333333333,
              "#9c179e"
             ],
             [
              0.4444444444444444,
              "#bd3786"
             ],
             [
              0.5555555555555556,
              "#d8576b"
             ],
             [
              0.6666666666666666,
              "#ed7953"
             ],
             [
              0.7777777777777778,
              "#fb9f3a"
             ],
             [
              0.8888888888888888,
              "#fdca26"
             ],
             [
              1.0,
              "#f0f921"
             ]
            ],
            "type": "histogram2dcontour"
           }
          ],
          "mesh3d": [
           {
            "colorbar": {
             "outlinewidth": 0,
             "ticks": ""
            },
            "type": "mesh3d"
           }
          ],
          "parcoords": [
           {
            "line": {
             "colorbar": {
              "outlinewidth": 0,
              "ticks": ""
             }
            },
            "type": "parcoords"
           }
          ],
          "pie": [
           {
            "automargin": true,
            "type": "pie"
           }
          ],
          "scatter": [
           {
            "marker": {
             "colorbar": {
              "outlinewidth": 0,
              "ticks": ""
             }
            },
            "type": "scatter"
           }
          ],
          "scatter3d": [
           {
            "line": {
             "colorbar": {
              "outlinewidth": 0,
              "ticks": ""
             }
            },
            "marker": {
             "colorbar": {
              "outlinewidth": 0,
              "ticks": ""
             }
            },
            "type": "scatter3d"
           }
          ],
          "scattercarpet": [
           {
            "marker": {
             "colorbar": {
              "outlinewidth": 0,
              "ticks": ""
             }
            },
            "type": "scattercarpet"
           }
          ],
          "scattergeo": [
           {
            "marker": {
             "colorbar": {
              "outlinewidth": 0,
              "ticks": ""
             }
            },
            "type": "scattergeo"
           }
          ],
          "scattergl": [
           {
            "marker": {
             "colorbar": {
              "outlinewidth": 0,
              "ticks": ""
             }
            },
            "type": "scattergl"
           }
          ],
          "scattermapbox": [
           {
            "marker": {
             "colorbar": {
              "outlinewidth": 0,
              "ticks": ""
             }
            },
            "type": "scattermapbox"
           }
          ],
          "scatterpolar": [
           {
            "marker": {
             "colorbar": {
              "outlinewidth": 0,
              "ticks": ""
             }
            },
            "type": "scatterpolar"
           }
          ],
          "scatterpolargl": [
           {
            "marker": {
             "colorbar": {
              "outlinewidth": 0,
              "ticks": ""
             }
            },
            "type": "scatterpolargl"
           }
          ],
          "scatterternary": [
           {
            "marker": {
             "colorbar": {
              "outlinewidth": 0,
              "ticks": ""
             }
            },
            "type": "scatterternary"
           }
          ],
          "surface": [
           {
            "colorbar": {
             "outlinewidth": 0,
             "ticks": ""
            },
            "colorscale": [
             [
              0.0,
              "#0d0887"
             ],
             [
              0.1111111111111111,
              "#46039f"
             ],
             [
              0.2222222222222222,
              "#7201a8"
             ],
             [
              0.3333333333333333,
              "#9c179e"
             ],
             [
              0.4444444444444444,
              "#bd3786"
             ],
             [
              0.5555555555555556,
              "#d8576b"
             ],
             [
              0.6666666666666666,
              "#ed7953"
             ],
             [
              0.7777777777777778,
              "#fb9f3a"
             ],
             [
              0.8888888888888888,
              "#fdca26"
             ],
             [
              1.0,
              "#f0f921"
             ]
            ],
            "type": "surface"
           }
          ],
          "table": [
           {
            "cells": {
             "fill": {
              "color": "#EBF0F8"
             },
             "line": {
              "color": "white"
             }
            },
            "header": {
             "fill": {
              "color": "#C8D4E3"
             },
             "line": {
              "color": "white"
             }
            },
            "type": "table"
           }
          ]
         },
         "layout": {
          "annotationdefaults": {
           "arrowcolor": "#2a3f5f",
           "arrowhead": 0,
           "arrowwidth": 1
          },
          "autotypenumbers": "strict",
          "coloraxis": {
           "colorbar": {
            "outlinewidth": 0,
            "ticks": ""
           }
          },
          "colorscale": {
           "diverging": [
            [
             0,
             "#8e0152"
            ],
            [
             0.1,
             "#c51b7d"
            ],
            [
             0.2,
             "#de77ae"
            ],
            [
             0.3,
             "#f1b6da"
            ],
            [
             0.4,
             "#fde0ef"
            ],
            [
             0.5,
             "#f7f7f7"
            ],
            [
             0.6,
             "#e6f5d0"
            ],
            [
             0.7,
             "#b8e186"
            ],
            [
             0.8,
             "#7fbc41"
            ],
            [
             0.9,
             "#4d9221"
            ],
            [
             1,
             "#276419"
            ]
           ],
           "sequential": [
            [
             0.0,
             "#0d0887"
            ],
            [
             0.1111111111111111,
             "#46039f"
            ],
            [
             0.2222222222222222,
             "#7201a8"
            ],
            [
             0.3333333333333333,
             "#9c179e"
            ],
            [
             0.4444444444444444,
             "#bd3786"
            ],
            [
             0.5555555555555556,
             "#d8576b"
            ],
            [
             0.6666666666666666,
             "#ed7953"
            ],
            [
             0.7777777777777778,
             "#fb9f3a"
            ],
            [
             0.8888888888888888,
             "#fdca26"
            ],
            [
             1.0,
             "#f0f921"
            ]
           ],
           "sequentialminus": [
            [
             0.0,
             "#0d0887"
            ],
            [
             0.1111111111111111,
             "#46039f"
            ],
            [
             0.2222222222222222,
             "#7201a8"
            ],
            [
             0.3333333333333333,
             "#9c179e"
            ],
            [
             0.4444444444444444,
             "#bd3786"
            ],
            [
             0.5555555555555556,
             "#d8576b"
            ],
            [
             0.6666666666666666,
             "#ed7953"
            ],
            [
             0.7777777777777778,
             "#fb9f3a"
            ],
            [
             0.8888888888888888,
             "#fdca26"
            ],
            [
             1.0,
             "#f0f921"
            ]
           ]
          },
          "colorway": [
           "#636efa",
           "#EF553B",
           "#00cc96",
           "#ab63fa",
           "#FFA15A",
           "#19d3f3",
           "#FF6692",
           "#B6E880",
           "#FF97FF",
           "#FECB52"
          ],
          "font": {
           "color": "#2a3f5f"
          },
          "geo": {
           "bgcolor": "white",
           "lakecolor": "white",
           "landcolor": "#E5ECF6",
           "showlakes": true,
           "showland": true,
           "subunitcolor": "white"
          },
          "hoverlabel": {
           "align": "left"
          },
          "hovermode": "closest",
          "mapbox": {
           "style": "light"
          },
          "paper_bgcolor": "white",
          "plot_bgcolor": "#E5ECF6",
          "polar": {
           "angularaxis": {
            "gridcolor": "white",
            "linecolor": "white",
            "ticks": ""
           },
           "bgcolor": "#E5ECF6",
           "radialaxis": {
            "gridcolor": "white",
            "linecolor": "white",
            "ticks": ""
           }
          },
          "scene": {
           "xaxis": {
            "backgroundcolor": "#E5ECF6",
            "gridcolor": "white",
            "gridwidth": 2,
            "linecolor": "white",
            "showbackground": true,
            "ticks": "",
            "zerolinecolor": "white"
           },
           "yaxis": {
            "backgroundcolor": "#E5ECF6",
            "gridcolor": "white",
            "gridwidth": 2,
            "linecolor": "white",
            "showbackground": true,
            "ticks": "",
            "zerolinecolor": "white"
           },
           "zaxis": {
            "backgroundcolor": "#E5ECF6",
            "gridcolor": "white",
            "gridwidth": 2,
            "linecolor": "white",
            "showbackground": true,
            "ticks": "",
            "zerolinecolor": "white"
           }
          },
          "shapedefaults": {
           "line": {
            "color": "#2a3f5f"
           }
          },
          "ternary": {
           "aaxis": {
            "gridcolor": "white",
            "linecolor": "white",
            "ticks": ""
           },
           "baxis": {
            "gridcolor": "white",
            "linecolor": "white",
            "ticks": ""
           },
           "bgcolor": "#E5ECF6",
           "caxis": {
            "gridcolor": "white",
            "linecolor": "white",
            "ticks": ""
           }
          },
          "title": {
           "x": 0.05
          },
          "xaxis": {
           "automargin": true,
           "gridcolor": "white",
           "linecolor": "white",
           "ticks": "",
           "title": {
            "standoff": 15
           },
           "zerolinecolor": "white",
           "zerolinewidth": 2
          },
          "yaxis": {
           "automargin": true,
           "gridcolor": "white",
           "linecolor": "white",
           "ticks": "",
           "title": {
            "standoff": 15
           },
           "zerolinecolor": "white",
           "zerolinewidth": 2
          }
         }
        },
        "title": {
         "text": "Peso y margen mes 03/22 no estado de Ceara"
        },
        "xaxis": {
         "anchor": "y",
         "domain": [
          0.0,
          1.0
         ],
         "range": [
          0,
          59242.90000000002
         ],
         "title": {
          "text": "Peso"
         }
        },
        "yaxis": {
         "anchor": "x",
         "domain": [
          0.0,
          1.0
         ],
         "range": [
          0,
          51200.74
         ],
         "title": {
          "text": "Margen"
         }
        }
       }
      },
      "text/html": "<div>                            <div id=\"12953cf3-1fbe-4b8c-a296-a631aac2ba67\" class=\"plotly-graph-div\" style=\"height:525px; width:100%;\"></div>            <script type=\"text/javascript\">                require([\"plotly\"], function(Plotly) {                    window.PLOTLYENV=window.PLOTLYENV || {};                                    if (document.getElementById(\"12953cf3-1fbe-4b8c-a296-a631aac2ba67\")) {                    Plotly.newPlot(                        \"12953cf3-1fbe-4b8c-a296-a631aac2ba67\",                        [{\"customdata\":[[\"Ceara\",\"Administracion Publica\",7684.18,16714,0.54,4816.56],[\"Ceara\",\"Administracion Publica\",8815.22,16116,0.591,8831.060000000001],[\"Ceara\",\"Administracion Publica\",8137.32,15757,0.575,21544.159999999996],[\"Ceara\",\"Administracion Publica\",7825.89,43917,0.582,33843.82999999999],[\"Ceara\",\"Administracion Publica\",7731.54,18700,0.597,14801.750000000004],[\"Ceara\",\"Administracion Publica\",7788.91,27008,0.578,7851.599999999999],[\"Ceara\",\"Administracion Publica\",8006.78,8555,0.576,2729.5799999999995],[\"Ceara\",\"Administracion Publica\",7713.59,21246,0.594,4047.8500000000004],[\"Ceara\",\"Administracion Publica\",7710.74,11165,0.562,2984.29],[\"Ceara\",\"Administracion Publica\",9843.98,24949,0.598,66212.76000000001],[\"Ceara\",\"Administracion Publica\",9308.8,4784,0.585,212.36],[\"Ceara\",\"Administracion Publica\",7875.07,21707,0.564,9796.86],[\"Ceara\",\"Administracion Publica\",7438.27,17584,0.569,334.33000000000004],[\"Ceara\",\"Administracion Publica\",8527.43,54687,0.595,31497.670000000006],[\"Ceara\",\"Administracion Publica\",7617.58,31391,0.57,5353.25]],\"hovertemplate\":\"<b>%{hovertext}</b><br><br>Desarrollo=Bajo<br>Peso=%{x:,.0f}<br>Poblacion=%{customdata[3]:,.0f}<br>AtividadePrincipal=%{customdata[1]}<br>PBIperCapita=%{customdata[2]:,.0f}<br>IDHM=%{customdata[4]:,.2f}<br>ReceitaBruta=%{customdata[5]:,.0f}<extra></extra>\",\"hovertext\":[\"Salitre\",\"Quixel\\u00f4\",\"Saboeiro\",\"Momba\\u00e7a\",\"Cari\\u00fas\",\"Cariria\\u00e7u\",\"Tarrafas\",\"Quiterian\\u00f3polis\",\"Potengi\",\"Juc\\u00e1s\",\"Granjeiro\",\"Araripe\",\"Aiuaba\",\"Acopiara\",\"Parambu\"],\"legendgroup\":\"Bajo\",\"marker\":{\"color\":\"#636efa\",\"size\":[16714,16116,15757,43917,18700,27008,8555,21246,11165,24949,4784,21707,17584,54687,31391],\"sizemode\":\"area\",\"sizeref\":77.29555555555555,\"symbol\":\"circle\"},\"mode\":\"markers\",\"name\":\"Bajo\",\"orientation\":\"v\",\"showlegend\":true,\"type\":\"scatter\",\"x\":[515.56,1258.28,3752.5399999999995,3574.7200000000003,1115.56,636.35,251.28000000000003,230.44,260.24,16953.88,13.92,1107.26,21.2,4889.8200000000015,577.94],\"xaxis\":\"x\",\"y\":[1269.2099999999998,1885.58,3429.52,8207.8,4350.859999999999,2234.7300000000005,793.06,1045.8700000000001,774.3799999999999,6118.139999999995,79.56,2466.6400000000003,131.65000000000003,7107.380000000001,1650.9800000000002],\"yaxis\":\"y\"},{\"customdata\":[[\"Ceara\",\"Administracion Publica\",7973.95,17210,0.6,36550.82000000001],[\"Ceara\",\"Administracion Publica\",8634.91,21342,0.636,3355.24],[\"Ceara\",\"Administracion Publica\",9353.48,15798,0.625,6283.870000000001],[\"Ceara\",\"Administracion Publica\",10373.44,14920,0.622,5865.769999999999],[\"Ceara\",\"Administracion Publica\",12428.39,9207,0.646,13069.86],[\"Ceara\",\"Administracion Publica\",8051.85,11965,0.628,3063.94],[\"Ceara\",\"Administracion Publica\",11245.42,59259,0.633,10887.250000000002],[\"Ceara\",\"Administracion Publica\",9768.71,41078,0.629,18095.2],[\"Ceara\",\"Servicios\",22783.47,16356,0.601,4755.74],[\"Ceara\",\"Administracion Publica\",7703.87,7712,0.602,941.1099999999999],[\"Ceara\",\"Administracion Publica\",5749.66,21041,0.618,805.78],[\"Ceara\",\"Administracion Publica\",8013.73,7254,0.61,965.0199999999999],[\"Ceara\",\"Servicios\",14078.8,79550,0.674,9106.19],[\"Ceara\",\"Agricultura\",13325.51,35566,0.622,13716.54],[\"Ceara\",\"Servicios\",17569.97,60232,0.682,22421.05],[\"Ceara\",\"Administracion Publica\",8777.58,48370,0.605,6607.139999999999],[\"Ceara\",\"Administracion Publica\",8761.76,7402,0.599,2578.79],[\"Ceara\",\"Administracion Publica\",8396.48,23537,0.6,24967.37],[\"Ceara\",\"Administracion Publica\",8503.8,24567,0.605,145083.99000000002],[\"Ceara\",\"Administracion Publica\",8816.46,6318,0.627,11585.12],[\"Ceara\",\"Servicios\",17347.6,61662,0.683,97592.49],[\"Ceara\",\"Administracion Publica\",8574.48,22834,0.599,130856.77000000003],[\"Ceara\",\"Administracion Publica\",13660.13,50195,0.647,33593.29],[\"Ceara\",\"Administracion Publica\",9754.59,27513,0.63,13353.059999999998],[\"Ceara\",\"Administracion Publica\",8048.99,25612,0.627,14052.94],[\"Ceara\",\"Administracion Publica\",8754.93,27413,0.628,16397.059999999998],[\"Ceara\",\"Servicios\",16312.75,61590,0.61,308.7],[\"Ceara\",\"Administracion Publica\",9019.17,68303,0.606,18737.170000000002],[\"Ceara\",\"Servicios\",16562.4,103633,0.677,190133.23],[\"Ceara\",\"Administracion Publica\",9974.77,12507,0.606,18905.560000000005],[\"Ceara\",\"Servicios\",14728.93,34592,0.621,11972.189999999999],[\"Ceara\",\"Administracion Publica\",8497.98,27187,0.614,8320.38],[\"Ceara\",\"Administracion Publica\",13889.97,8150,0.651,1717.4900000000002],[\"Ceara\",\"Servicios\",17772.55,278264,0.694,301514.95],[\"Ceara\",\"Administracion Publica\",8650.81,31476,0.613,37021.07000000001],[\"Ceara\",\"Administracion Publica\",10450.22,14351,0.652,1360.27],[\"Ceara\",\"Administracion Publica\",9689.49,19330,0.633,1962.6200000000001]],\"hovertemplate\":\"<b>%{hovertext}</b><br><br>Desarrollo=Medio<br>Peso=%{x:,.0f}<br>Poblacion=%{customdata[3]:,.0f}<br>AtividadePrincipal=%{customdata[1]}<br>PBIperCapita=%{customdata[2]:,.0f}<br>IDHM=%{customdata[4]:,.2f}<br>ReceitaBruta=%{customdata[5]:,.0f}<extra></extra>\",\"hovertext\":[\"Piquet Carneiro\",\"Or\\u00f3s\",\"Nova Olinda\",\"Porteiras\",\"Penaforte\",\"Abaiara\",\"Tau\\u00e1\",\"V\\u00e1rzea Alegre\",\"Pereiro\",\"Altaneira\",\"Catarina\",\"Erer\\u00e9\",\"Russas\",\"Miss\\u00e3o Velha\",\"Limoeiro do Norte\",\"Mauriti\",\"Antonina do Norte\",\"Assar\\u00e9\",\"Aurora\",\"Baixio\",\"Barbalha\",\"Barro\",\"Brejo Santo\",\"Campos Sales\",\"Cedro\",\"Milagres\",\"Morada Nova\",\"Ic\\u00f3\",\"Iguatu\",\"Ipaumirim\",\"Jaguaribe\",\"Jardim\",\"Jati\",\"Juazeiro do Norte\",\"Lavras da Mangabeira\",\"Iracema\",\"Farias Brito\"],\"legendgroup\":\"Medio\",\"marker\":{\"color\":\"#EF553B\",\"size\":[17210,21342,15798,14920,9207,11965,59259,41078,16356,7712,21041,7254,79550,35566,60232,48370,7402,23537,24567,6318,61662,22834,50195,27513,25612,27413,61590,68303,103633,12507,34592,27187,8150,278264,31476,14351,19330],\"sizemode\":\"area\",\"sizeref\":77.29555555555555,\"symbol\":\"circle\"},\"mode\":\"markers\",\"name\":\"Medio\",\"orientation\":\"v\",\"showlegend\":true,\"type\":\"scatter\",\"x\":[6969.92,312.78,372.40000000000003,1476.8,1096.06,224.64000000000001,784.7199999999999,3783.2999999999993,390.76,89.88,33.120000000000005,88.8,537.62,1561.1400000000003,1141.1799999999998,521.74,393.37999999999994,4788.34,37025.240000000005,2436.4600000000005,26493.809999999998,32803.96,2835.1199999999994,965.02,1547.8100000000002,1499.1599999999999,22.6,1311.42,45689.18000000001,2927.4399999999996,698.86,598.16,94.16,59242.90000000002,8829.039999999999,59.16,405.94],\"xaxis\":\"x\",\"y\":[5849.030000000001,848.1700000000001,1956.0600000000002,1308.6799999999998,3585.3599999999997,813.1400000000001,3074.24,2900.3600000000006,1371.8,298.68999999999994,282.18,317.58,1629.4900000000005,3399.9599999999996,5152.110000000001,1821.6800000000003,507.15,4031.3499999999995,14114.839999999998,1650.5200000000004,2929.0499999999984,9825.179999999993,9528.010000000002,4060.5899999999997,3729.36,4781.940000000001,87.53,5428.22,11642.799999999996,4113.55,3241.0499999999997,2401.42,509.05000000000007,51200.74,4674.059999999999,392.8,279.1100000000001],\"yaxis\":\"y\"},{\"customdata\":[[\"Ceara\",\"Servicios\",13315.64,133913,0.713,7074.46]],\"hovertemplate\":\"<b>%{hovertext}</b><br><br>Desarrollo=Alto<br>Peso=%{x:,.0f}<br>Poblacion=%{customdata[3]:,.0f}<br>AtividadePrincipal=%{customdata[1]}<br>PBIperCapita=%{customdata[2]:,.0f}<br>IDHM=%{customdata[4]:,.2f}<br>ReceitaBruta=%{customdata[5]:,.0f}<extra></extra>\",\"hovertext\":[\"Crato\"],\"legendgroup\":\"Alto\",\"marker\":{\"color\":\"#00cc96\",\"size\":[133913],\"sizemode\":\"area\",\"sizeref\":77.29555555555555,\"symbol\":\"circle\"},\"mode\":\"markers\",\"name\":\"Alto\",\"orientation\":\"v\",\"showlegend\":true,\"type\":\"scatter\",\"x\":[722.9200000000001],\"xaxis\":\"x\",\"y\":[1951.1100000000001],\"yaxis\":\"y\"}],                        {\"legend\":{\"itemsizing\":\"constant\",\"title\":{\"text\":\"Desarrollo\"},\"tracegroupgap\":0},\"template\":{\"data\":{\"bar\":[{\"error_x\":{\"color\":\"#2a3f5f\"},\"error_y\":{\"color\":\"#2a3f5f\"},\"marker\":{\"line\":{\"color\":\"#E5ECF6\",\"width\":0.5},\"pattern\":{\"fillmode\":\"overlay\",\"size\":10,\"solidity\":0.2}},\"type\":\"bar\"}],\"barpolar\":[{\"marker\":{\"line\":{\"color\":\"#E5ECF6\",\"width\":0.5},\"pattern\":{\"fillmode\":\"overlay\",\"size\":10,\"solidity\":0.2}},\"type\":\"barpolar\"}],\"carpet\":[{\"aaxis\":{\"endlinecolor\":\"#2a3f5f\",\"gridcolor\":\"white\",\"linecolor\":\"white\",\"minorgridcolor\":\"white\",\"startlinecolor\":\"#2a3f5f\"},\"baxis\":{\"endlinecolor\":\"#2a3f5f\",\"gridcolor\":\"white\",\"linecolor\":\"white\",\"minorgridcolor\":\"white\",\"startlinecolor\":\"#2a3f5f\"},\"type\":\"carpet\"}],\"choropleth\":[{\"colorbar\":{\"outlinewidth\":0,\"ticks\":\"\"},\"type\":\"choropleth\"}],\"contour\":[{\"colorbar\":{\"outlinewidth\":0,\"ticks\":\"\"},\"colorscale\":[[0.0,\"#0d0887\"],[0.1111111111111111,\"#46039f\"],[0.2222222222222222,\"#7201a8\"],[0.3333333333333333,\"#9c179e\"],[0.4444444444444444,\"#bd3786\"],[0.5555555555555556,\"#d8576b\"],[0.6666666666666666,\"#ed7953\"],[0.7777777777777778,\"#fb9f3a\"],[0.8888888888888888,\"#fdca26\"],[1.0,\"#f0f921\"]],\"type\":\"contour\"}],\"contourcarpet\":[{\"colorbar\":{\"outlinewidth\":0,\"ticks\":\"\"},\"type\":\"contourcarpet\"}],\"heatmap\":[{\"colorbar\":{\"outlinewidth\":0,\"ticks\":\"\"},\"colorscale\":[[0.0,\"#0d0887\"],[0.1111111111111111,\"#46039f\"],[0.2222222222222222,\"#7201a8\"],[0.3333333333333333,\"#9c179e\"],[0.4444444444444444,\"#bd3786\"],[0.5555555555555556,\"#d8576b\"],[0.6666666666666666,\"#ed7953\"],[0.7777777777777778,\"#fb9f3a\"],[0.8888888888888888,\"#fdca26\"],[1.0,\"#f0f921\"]],\"type\":\"heatmap\"}],\"heatmapgl\":[{\"colorbar\":{\"outlinewidth\":0,\"ticks\":\"\"},\"colorscale\":[[0.0,\"#0d0887\"],[0.1111111111111111,\"#46039f\"],[0.2222222222222222,\"#7201a8\"],[0.3333333333333333,\"#9c179e\"],[0.4444444444444444,\"#bd3786\"],[0.5555555555555556,\"#d8576b\"],[0.6666666666666666,\"#ed7953\"],[0.7777777777777778,\"#fb9f3a\"],[0.8888888888888888,\"#fdca26\"],[1.0,\"#f0f921\"]],\"type\":\"heatmapgl\"}],\"histogram\":[{\"marker\":{\"pattern\":{\"fillmode\":\"overlay\",\"size\":10,\"solidity\":0.2}},\"type\":\"histogram\"}],\"histogram2d\":[{\"colorbar\":{\"outlinewidth\":0,\"ticks\":\"\"},\"colorscale\":[[0.0,\"#0d0887\"],[0.1111111111111111,\"#46039f\"],[0.2222222222222222,\"#7201a8\"],[0.3333333333333333,\"#9c179e\"],[0.4444444444444444,\"#bd3786\"],[0.5555555555555556,\"#d8576b\"],[0.6666666666666666,\"#ed7953\"],[0.7777777777777778,\"#fb9f3a\"],[0.8888888888888888,\"#fdca26\"],[1.0,\"#f0f921\"]],\"type\":\"histogram2d\"}],\"histogram2dcontour\":[{\"colorbar\":{\"outlinewidth\":0,\"ticks\":\"\"},\"colorscale\":[[0.0,\"#0d0887\"],[0.1111111111111111,\"#46039f\"],[0.2222222222222222,\"#7201a8\"],[0.3333333333333333,\"#9c179e\"],[0.4444444444444444,\"#bd3786\"],[0.5555555555555556,\"#d8576b\"],[0.6666666666666666,\"#ed7953\"],[0.7777777777777778,\"#fb9f3a\"],[0.8888888888888888,\"#fdca26\"],[1.0,\"#f0f921\"]],\"type\":\"histogram2dcontour\"}],\"mesh3d\":[{\"colorbar\":{\"outlinewidth\":0,\"ticks\":\"\"},\"type\":\"mesh3d\"}],\"parcoords\":[{\"line\":{\"colorbar\":{\"outlinewidth\":0,\"ticks\":\"\"}},\"type\":\"parcoords\"}],\"pie\":[{\"automargin\":true,\"type\":\"pie\"}],\"scatter\":[{\"marker\":{\"colorbar\":{\"outlinewidth\":0,\"ticks\":\"\"}},\"type\":\"scatter\"}],\"scatter3d\":[{\"line\":{\"colorbar\":{\"outlinewidth\":0,\"ticks\":\"\"}},\"marker\":{\"colorbar\":{\"outlinewidth\":0,\"ticks\":\"\"}},\"type\":\"scatter3d\"}],\"scattercarpet\":[{\"marker\":{\"colorbar\":{\"outlinewidth\":0,\"ticks\":\"\"}},\"type\":\"scattercarpet\"}],\"scattergeo\":[{\"marker\":{\"colorbar\":{\"outlinewidth\":0,\"ticks\":\"\"}},\"type\":\"scattergeo\"}],\"scattergl\":[{\"marker\":{\"colorbar\":{\"outlinewidth\":0,\"ticks\":\"\"}},\"type\":\"scattergl\"}],\"scattermapbox\":[{\"marker\":{\"colorbar\":{\"outlinewidth\":0,\"ticks\":\"\"}},\"type\":\"scattermapbox\"}],\"scatterpolar\":[{\"marker\":{\"colorbar\":{\"outlinewidth\":0,\"ticks\":\"\"}},\"type\":\"scatterpolar\"}],\"scatterpolargl\":[{\"marker\":{\"colorbar\":{\"outlinewidth\":0,\"ticks\":\"\"}},\"type\":\"scatterpolargl\"}],\"scatterternary\":[{\"marker\":{\"colorbar\":{\"outlinewidth\":0,\"ticks\":\"\"}},\"type\":\"scatterternary\"}],\"surface\":[{\"colorbar\":{\"outlinewidth\":0,\"ticks\":\"\"},\"colorscale\":[[0.0,\"#0d0887\"],[0.1111111111111111,\"#46039f\"],[0.2222222222222222,\"#7201a8\"],[0.3333333333333333,\"#9c179e\"],[0.4444444444444444,\"#bd3786\"],[0.5555555555555556,\"#d8576b\"],[0.6666666666666666,\"#ed7953\"],[0.7777777777777778,\"#fb9f3a\"],[0.8888888888888888,\"#fdca26\"],[1.0,\"#f0f921\"]],\"type\":\"surface\"}],\"table\":[{\"cells\":{\"fill\":{\"color\":\"#EBF0F8\"},\"line\":{\"color\":\"white\"}},\"header\":{\"fill\":{\"color\":\"#C8D4E3\"},\"line\":{\"color\":\"white\"}},\"type\":\"table\"}]},\"layout\":{\"annotationdefaults\":{\"arrowcolor\":\"#2a3f5f\",\"arrowhead\":0,\"arrowwidth\":1},\"autotypenumbers\":\"strict\",\"coloraxis\":{\"colorbar\":{\"outlinewidth\":0,\"ticks\":\"\"}},\"colorscale\":{\"diverging\":[[0,\"#8e0152\"],[0.1,\"#c51b7d\"],[0.2,\"#de77ae\"],[0.3,\"#f1b6da\"],[0.4,\"#fde0ef\"],[0.5,\"#f7f7f7\"],[0.6,\"#e6f5d0\"],[0.7,\"#b8e186\"],[0.8,\"#7fbc41\"],[0.9,\"#4d9221\"],[1,\"#276419\"]],\"sequential\":[[0.0,\"#0d0887\"],[0.1111111111111111,\"#46039f\"],[0.2222222222222222,\"#7201a8\"],[0.3333333333333333,\"#9c179e\"],[0.4444444444444444,\"#bd3786\"],[0.5555555555555556,\"#d8576b\"],[0.6666666666666666,\"#ed7953\"],[0.7777777777777778,\"#fb9f3a\"],[0.8888888888888888,\"#fdca26\"],[1.0,\"#f0f921\"]],\"sequentialminus\":[[0.0,\"#0d0887\"],[0.1111111111111111,\"#46039f\"],[0.2222222222222222,\"#7201a8\"],[0.3333333333333333,\"#9c179e\"],[0.4444444444444444,\"#bd3786\"],[0.5555555555555556,\"#d8576b\"],[0.6666666666666666,\"#ed7953\"],[0.7777777777777778,\"#fb9f3a\"],[0.8888888888888888,\"#fdca26\"],[1.0,\"#f0f921\"]]},\"colorway\":[\"#636efa\",\"#EF553B\",\"#00cc96\",\"#ab63fa\",\"#FFA15A\",\"#19d3f3\",\"#FF6692\",\"#B6E880\",\"#FF97FF\",\"#FECB52\"],\"font\":{\"color\":\"#2a3f5f\"},\"geo\":{\"bgcolor\":\"white\",\"lakecolor\":\"white\",\"landcolor\":\"#E5ECF6\",\"showlakes\":true,\"showland\":true,\"subunitcolor\":\"white\"},\"hoverlabel\":{\"align\":\"left\"},\"hovermode\":\"closest\",\"mapbox\":{\"style\":\"light\"},\"paper_bgcolor\":\"white\",\"plot_bgcolor\":\"#E5ECF6\",\"polar\":{\"angularaxis\":{\"gridcolor\":\"white\",\"linecolor\":\"white\",\"ticks\":\"\"},\"bgcolor\":\"#E5ECF6\",\"radialaxis\":{\"gridcolor\":\"white\",\"linecolor\":\"white\",\"ticks\":\"\"}},\"scene\":{\"xaxis\":{\"backgroundcolor\":\"#E5ECF6\",\"gridcolor\":\"white\",\"gridwidth\":2,\"linecolor\":\"white\",\"showbackground\":true,\"ticks\":\"\",\"zerolinecolor\":\"white\"},\"yaxis\":{\"backgroundcolor\":\"#E5ECF6\",\"gridcolor\":\"white\",\"gridwidth\":2,\"linecolor\":\"white\",\"showbackground\":true,\"ticks\":\"\",\"zerolinecolor\":\"white\"},\"zaxis\":{\"backgroundcolor\":\"#E5ECF6\",\"gridcolor\":\"white\",\"gridwidth\":2,\"linecolor\":\"white\",\"showbackground\":true,\"ticks\":\"\",\"zerolinecolor\":\"white\"}},\"shapedefaults\":{\"line\":{\"color\":\"#2a3f5f\"}},\"ternary\":{\"aaxis\":{\"gridcolor\":\"white\",\"linecolor\":\"white\",\"ticks\":\"\"},\"baxis\":{\"gridcolor\":\"white\",\"linecolor\":\"white\",\"ticks\":\"\"},\"bgcolor\":\"#E5ECF6\",\"caxis\":{\"gridcolor\":\"white\",\"linecolor\":\"white\",\"ticks\":\"\"}},\"title\":{\"x\":0.05},\"xaxis\":{\"automargin\":true,\"gridcolor\":\"white\",\"linecolor\":\"white\",\"ticks\":\"\",\"title\":{\"standoff\":15},\"zerolinecolor\":\"white\",\"zerolinewidth\":2},\"yaxis\":{\"automargin\":true,\"gridcolor\":\"white\",\"linecolor\":\"white\",\"ticks\":\"\",\"title\":{\"standoff\":15},\"zerolinecolor\":\"white\",\"zerolinewidth\":2}}},\"title\":{\"text\":\"Peso y margen mes 03/22 no estado de Ceara\"},\"xaxis\":{\"anchor\":\"y\",\"domain\":[0.0,1.0],\"range\":[0,59242.90000000002],\"title\":{\"text\":\"Peso\"}},\"yaxis\":{\"anchor\":\"x\",\"domain\":[0.0,1.0],\"range\":[0,51200.74],\"title\":{\"text\":\"Margen\"}}},                        {\"responsive\": true}                    ).then(function(){\n                            \nvar gd = document.getElementById('12953cf3-1fbe-4b8c-a296-a631aac2ba67');\nvar x = new MutationObserver(function (mutations, observer) {{\n        var display = window.getComputedStyle(gd).display;\n        if (!display || display === 'none') {{\n            console.log([gd, 'removed!']);\n            Plotly.purge(gd);\n            observer.disconnect();\n        }}\n}});\n\n// Listen for the removal of the full notebook cells\nvar notebookContainer = gd.closest('#notebook-container');\nif (notebookContainer) {{\n    x.observe(notebookContainer, {childList: true});\n}}\n\n// Listen for the clearing of the current output cell\nvar outputEl = gd.closest('.output');\nif (outputEl) {{\n    x.observe(outputEl, {childList: true});\n}}\n\n                        })                };                });            </script>        </div>"
     },
     "metadata": {},
     "output_type": "display_data"
    }
   ],
   "source": [
    "fig2 = px.scatter(ventas_tot_mun_22,\n",
    "                 x = 'Peso',\n",
    "                 y = 'Margen',\n",
    "                  range_x=[0, ventas_tot_mun_22.Peso.max()],\n",
    "                  range_y=[0, ventas_tot_mun_22.Margen.max()],\n",
    "                 category_orders = {'Desarrollo': opciones_desarrollo},\n",
    "                 size = 'Poblacion',\n",
    "                  size_max= 60,\n",
    "                 hover_name= 'Municipio',\n",
    "                 hover_data= {'Estado' : False,\n",
    "                              'AtividadePrincipal' : True,\n",
    "                              'Margen' : False,\n",
    "                              'Peso' : ':,.0f',\n",
    "                              'PBIperCapita' : ':,.0f',\n",
    "                              'Poblacion' : ':,.0f',\n",
    "                              'IDHM' : ':,.2f',\n",
    "                              'ReceitaBruta' : ':,.0f'},\n",
    "                 color = 'Desarrollo',\n",
    "                 title= f'Peso y margen mes {mes} no estado de {estado}'\n",
    "                 )\n",
    "fig2.show()"
   ],
   "metadata": {
    "collapsed": false,
    "pycharm": {
     "name": "#%%\n"
    }
   }
  },
  {
   "cell_type": "code",
   "execution_count": null,
   "outputs": [],
   "source": [],
   "metadata": {
    "collapsed": false,
    "pycharm": {
     "name": "#%%\n"
    }
   }
  }
 ],
 "metadata": {
  "kernelspec": {
   "display_name": "Python 3",
   "language": "python",
   "name": "python3"
  },
  "language_info": {
   "codemirror_mode": {
    "name": "ipython",
    "version": 2
   },
   "file_extension": ".py",
   "mimetype": "text/x-python",
   "name": "python",
   "nbconvert_exporter": "python",
   "pygments_lexer": "ipython2",
   "version": "2.7.6"
  }
 },
 "nbformat": 4,
 "nbformat_minor": 0
}