{
 "cells": [
  {
   "cell_type": "code",
   "execution_count": 1,
   "metadata": {
    "collapsed": true
   },
   "outputs": [],
   "source": [
    "import pandas as pd\n",
    "import plotly.express as px\n",
    "from dash import Dash, dcc, html, Output, Input\n",
    "import  dash_bootstrap_components as dbc\n",
    "pd.options.display.float_format = '{:,.0f}'.format"
   ]
  },
  {
   "cell_type": "code",
   "execution_count": 2,
   "outputs": [],
   "source": [
    "df = pd.read_csv(\"D:/Zaeli/Analise Cliente Produto Comercial/Analisis Datos/VentasLineaProductoMunicipio.csv\")"
   ],
   "metadata": {
    "collapsed": false,
    "pycharm": {
     "name": "#%%\n"
    }
   }
  },
  {
   "cell_type": "code",
   "execution_count": 3,
   "outputs": [],
   "source": [
    "df = df[df.Linea != 'Arresto']"
   ],
   "metadata": {
    "collapsed": false,
    "pycharm": {
     "name": "#%%\n"
    }
   }
  },
  {
   "cell_type": "code",
   "execution_count": 4,
   "outputs": [],
   "source": [
    "df['PrecioLiquido'] = df.ReceitaLiquida / df.Volume\n",
    "df['MB%'] = df.Margen / df.ReceitaBruta * 100"
   ],
   "metadata": {
    "collapsed": false,
    "pycharm": {
     "name": "#%%\n"
    }
   }
  },
  {
   "cell_type": "code",
   "execution_count": 5,
   "outputs": [],
   "source": [
    "# fig = px.scatter(dff,\n",
    "#                  x = 'Peso',\n",
    "#                  y = 'Margen',\n",
    "#                  range_x=[0, dff.Peso.max()],\n",
    "#                  range_y=[dff.Margen.min(), df.Margen.max()],\n",
    "#                  size='Poblacion',\n",
    "#                  size_max=60,\n",
    "#                  hover_name='Municipio',\n",
    "#                  hover_data={'Estado' : False,\n",
    "#                              'AtividadePrincipal' : True,\n",
    "#                              'Margen' : False,\n",
    "#                              'Peso' : ':,.0f',\n",
    "#                              'PBIperCapita' : ':,.0f',\n",
    "#                              'Poblacion' : ':,.0f',\n",
    "#                              'IDHM' : ':,.2f',\n",
    "#                              'ReceitaBruta' : ':,.0f'},\n",
    "#                  color='Desarrollo',\n",
    "#                  title='Peso y margen'\n",
    "#                  )\n",
    "# fig.show()"
   ],
   "metadata": {
    "collapsed": false,
    "pycharm": {
     "name": "#%%\n"
    }
   }
  },
  {
   "cell_type": "markdown",
   "source": [
    "Preparacion del dashboard"
   ],
   "metadata": {
    "collapsed": false,
    "pycharm": {
     "name": "#%% md\n"
    }
   }
  },
  {
   "cell_type": "code",
   "execution_count": 6,
   "outputs": [],
   "source": [
    "opciones_estado = list(df.Estado.unique())\n",
    "opciones_estado.sort()\n",
    "opciones_estado.append('Todos')"
   ],
   "metadata": {
    "collapsed": false,
    "pycharm": {
     "name": "#%%\n"
    }
   }
  },
  {
   "cell_type": "code",
   "execution_count": 7,
   "outputs": [],
   "source": [
    "opciones_lineas = list(df.Linea.unique())\n",
    "opciones_lineas.sort()\n",
    "opciones_lineas.append('Todos')"
   ],
   "metadata": {
    "collapsed": false,
    "pycharm": {
     "name": "#%%\n"
    }
   }
  },
  {
   "cell_type": "code",
   "execution_count": 8,
   "outputs": [],
   "source": [
    "app = Dash(__name__, external_stylesheets=[dbc.themes.COSMO])"
   ],
   "metadata": {
    "collapsed": false,
    "pycharm": {
     "name": "#%%\n"
    }
   }
  },
  {
   "cell_type": "code",
   "execution_count": 19,
   "outputs": [],
   "source": [
    "app.layout = html.Div([\n",
    "    html.H3('Dashboard de Ventas'),\n",
    "    html.Br(),\n",
    "    html.H5('Seleccione un estado'),\n",
    "    dcc.Dropdown(id= 'seleccion_estado', options = opciones_estado, value='todos', style={'width':'50%'}),\n",
    "    html.Br(),\n",
    "    html.H5('Seleccione un municipio'),\n",
    "    dcc.Dropdown(id= 'seleccion_municipio', options = [], value=[], style={'width':'50%'}),\n",
    "    html.Br(),\n",
    "    html.H5('Seleccione una linea'),\n",
    "    dcc.Dropdown(id= 'seleccion_linea', options = opciones_lineas , value='todos', style={'width':'50%'}),\n",
    "    html.Br(),\n",
    "    html.H5('Seleccione un producto'),\n",
    "    dcc.Dropdown(id= 'seleccion_producto', options = [], value=[], style={'width':'50%'}),\n",
    "    \n",
    "])"
   ],
   "metadata": {
    "collapsed": false,
    "pycharm": {
     "name": "#%%\n"
    }
   }
  },
  {
   "cell_type": "code",
   "execution_count": 20,
   "outputs": [],
   "source": [
    "@app.callback(\n",
    "    Output('seleccion_producto', 'options'),\n",
    "    Output('seleccion_producto', 'value'),\n",
    "    Input('seleccion_linea', 'value'),\n",
    "\n",
    ")\n",
    "\n",
    "def productos_municipios(linea):\n",
    "    dff = df.query('Linea == @linea')\n",
    "    productos_linea = [{'label':p, 'value':p} for p in sorted(dff.Producto.unique())]\n",
    "    valores_seleccionados = [x['value'] for x in productos_linea]\n",
    "    return productos_linea, valores_seleccionados"
   ],
   "metadata": {
    "collapsed": false,
    "pycharm": {
     "name": "#%%\n"
    }
   }
  },
  {
   "cell_type": "code",
   "execution_count": 21,
   "outputs": [],
   "source": [
    "@app.callback(\n",
    "    Output('seleccion_municipio', 'options'),\n",
    "    Output('seleccion_municipio', 'value'),\n",
    "    Input('seleccion_estado', 'value')\n",
    ")\n",
    "\n",
    "def lista_productos(estado):\n",
    "    dff = df.query('Estado == @estado')\n",
    "    municipio_estado = [{'label':p, 'value':p} for p in sorted(dff.Municipio.unique())]\n",
    "    valores_mun_seleccionados = [x['value'] for x in municipio_estado]\n",
    "    return municipio_estado, valores_mun_seleccionados"
   ],
   "metadata": {
    "collapsed": false,
    "pycharm": {
     "name": "#%%\n"
    }
   }
  },
  {
   "cell_type": "code",
   "execution_count": null,
   "outputs": [],
   "source": [
    "if __name__ == '__main__':\n",
    "    app.run_server(debug=False)"
   ],
   "metadata": {
    "collapsed": false,
    "pycharm": {
     "name": "#%%\n",
     "is_executing": true
    }
   }
  },
  {
   "cell_type": "code",
   "execution_count": 12,
   "outputs": [],
   "source": [],
   "metadata": {
    "collapsed": false,
    "pycharm": {
     "name": "#%%\n"
    }
   }
  }
 ],
 "metadata": {
  "kernelspec": {
   "display_name": "Python 3",
   "language": "python",
   "name": "python3"
  },
  "language_info": {
   "codemirror_mode": {
    "name": "ipython",
    "version": 2
   },
   "file_extension": ".py",
   "mimetype": "text/x-python",
   "name": "python",
   "nbconvert_exporter": "python",
   "pygments_lexer": "ipython2",
   "version": "2.7.6"
  }
 },
 "nbformat": 4,
 "nbformat_minor": 0
}