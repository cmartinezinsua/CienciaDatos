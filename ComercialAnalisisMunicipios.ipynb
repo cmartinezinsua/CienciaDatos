{
 "cells": [
  {
   "cell_type": "code",
   "execution_count": 1,
   "metadata": {
    "collapsed": true
   },
   "outputs": [],
   "source": [
    "import pandas as pd\n",
    "import numpy as np\n",
    "import plotly.express as px\n",
    "from datetime import datetime\n",
    "from dash import Dash, html, dcc, Output, Input\n",
    "import dash_bootstrap_components as dbc\n",
    "pd.options.display.float_format = '{:,.0f}'.format\n",
    "import glob"
   ]
  },
  {
   "cell_type": "markdown",
   "source": [
    "Carga de los datos de venta"
   ],
   "metadata": {
    "collapsed": false,
    "pycharm": {
     "name": "#%% md\n"
    }
   }
  },
  {
   "cell_type": "code",
   "execution_count": 2,
   "outputs": [],
   "source": [
    "lista = lista = glob.glob(\"D:/Zaeli/Analise Cliente Produto Comercial/Consolidado/Recientes/*.csv\")\n",
    "ventas = []"
   ],
   "metadata": {
    "collapsed": false,
    "pycharm": {
     "name": "#%%\n"
    }
   }
  },
  {
   "cell_type": "code",
   "execution_count": 3,
   "outputs": [],
   "source": [
    "for archivo in lista:\n",
    "    data = pd.read_csv(archivo, header=0, sep = ';', parse_dates = ['Ano/Mes'], dtype = {'CodGer':str,'CODSAP':str ,'CodRepresentante':str, 'Cli&Rep':str})\n",
    "    data = data.rename(columns={'Ano/Mes':'Fecha', 'CODSAP' : 'Material'})\n",
    "    ventas.append(data)\n",
    "ventas = pd.concat(ventas, ignore_index = True)"
   ],
   "metadata": {
    "collapsed": false,
    "pycharm": {
     "name": "#%%\n"
    }
   }
  },
  {
   "cell_type": "markdown",
   "source": [
    "Actualizacion por inflacion"
   ],
   "metadata": {
    "collapsed": false,
    "pycharm": {
     "name": "#%% md\n"
    }
   }
  },
  {
   "cell_type": "markdown",
   "source": [],
   "metadata": {
    "collapsed": false,
    "pycharm": {
     "name": "#%% md\n"
    }
   }
  },
  {
   "cell_type": "code",
   "execution_count": 4,
   "outputs": [],
   "source": [
    "inflacion = pd.read_excel(\"D:/Zaeli/BI/Archivos Compartidos/Inflacion.xlsx\", header=3, sheet_name = 'Hoja1')\n",
    "inflacion = inflacion.rename(columns= {'DataKey':'ChaveData'})\n",
    "ventasi = pd.merge(ventas, inflacion)\n",
    "ventasi['ReceitaBrutaIn'] = ventasi.ReceitaBruta * (1 + ventasi.InfacaoAcum)\n",
    "ventasi['Verbas'] = ventasi.Bonif + ventasi.DescConcedidos + ventasi.Impostos + ventasi.Frete + ventasi.Comis - ventasi.Devol - ventasi.Troca\n",
    "ventasi['ReceitaLiquida'] = ventasi.ReceitaBruta - ventasi.Verbas\n",
    "ventasi['ReceitaLiquidaIn'] = ventasi.ReceitaLiquida * (1 + ventasi.InfacaoAcum)\n",
    "ventasi['MargenBruto'] = ventasi.ReceitaLiquida - ventasi.CPV\n",
    "ventasi['MargenBrutoIn'] = ventasi.MargenBruto * (1 + ventasi.InfacaoAcum)\n",
    "ventasi = ventasi.drop(['PesoBruto', 'ReceitaBruta', 'Bonif', 'DescConcedidos', 'Impostos', 'Comis', 'CPV', 'Devol', 'Troca',                                                                       'Inflacaomes','InfacaoAcum', 'Verbas', 'MargenBruto', 'ReceitaLiquida'], axis=1)\n",
    "ventasi = ventasi.rename(columns={\n",
    "    'ReceitaBrutaIn' : 'ReceitaBruta',\n",
    "    'ReceitaLiquidaIn' : 'ReceitaLiquida',\n",
    "    'MargenBrutoIn' : 'Margen'\n",
    "})"
   ],
   "metadata": {
    "collapsed": false,
    "pycharm": {
     "name": "#%%\n"
    }
   }
  },
  {
   "cell_type": "markdown",
   "source": [
    "Carga de los productos"
   ],
   "metadata": {
    "collapsed": false,
    "pycharm": {
     "name": "#%% md\n"
    }
   }
  },
  {
   "cell_type": "code",
   "execution_count": 5,
   "outputs": [],
   "source": [
    "lineas = pd.read_csv(\"D:/Zaeli/PrevisionDemanda/lineasProducto.csv\", header=0, sep=';')\n",
    "lineas = lineas.rename(columns={\n",
    "    'COD SAP':'Material',\n",
    "    'Linha':'Linea',\n",
    "    'Produto':'Producto'\n",
    "})\n",
    "lineas['Material'] = lineas['Material'].astype(str)\n",
    "ventasP = pd.merge(ventasi, lineas)\n",
    "ventasP = ventasP.drop(['Cli&Rep', 'Tipo'], axis=1)"
   ],
   "metadata": {
    "collapsed": false,
    "pycharm": {
     "name": "#%%\n"
    }
   }
  },
  {
   "cell_type": "markdown",
   "source": [
    "Carga del cadastro de clientes"
   ],
   "metadata": {
    "collapsed": false,
    "pycharm": {
     "name": "#%% md\n"
    }
   }
  },
  {
   "cell_type": "code",
   "execution_count": 6,
   "outputs": [],
   "source": [
    "ListadoClientes = pd.read_excel(\"D:/Zaeli/BI/Archivos Compartidos/Clientes.xlsx\",sheet_name='Listado')\n",
    "ListadoClientes = ListadoClientes.drop(['Cidade', 'CodEstado', 'Estado', 'CidadeEstado'], axis=1)\n",
    "ventasC = pd.merge(ventasP, ListadoClientes)"
   ],
   "metadata": {
    "collapsed": false,
    "pycharm": {
     "name": "#%%\n"
    }
   }
  },
  {
   "cell_type": "markdown",
   "source": [
    "Consolidacion por mes, linea y municipio"
   ],
   "metadata": {
    "collapsed": false,
    "pycharm": {
     "name": "#%% md\n"
    }
   }
  },
  {
   "cell_type": "code",
   "execution_count": 7,
   "outputs": [],
   "source": [
    "ventasM = ventasC.groupby([pd.Grouper(freq='M', key = 'Fecha'), 'Fecha' ,'CodigoMunicipio', 'Linea', 'Producto'], as_index=False).agg({\n",
    "    'ReceitaBruta':'sum',\n",
    "    'ReceitaLiquida' : 'sum',\n",
    "    'PesoLiq' :'sum',\n",
    "    'Volume' : 'sum',\n",
    "    'Margen': 'sum'\n",
    "})"
   ],
   "metadata": {
    "collapsed": false,
    "pycharm": {
     "name": "#%%\n"
    }
   }
  },
  {
   "cell_type": "code",
   "execution_count": null,
   "outputs": [],
   "source": [],
   "metadata": {
    "collapsed": false,
    "pycharm": {
     "name": "#%%\n"
    }
   }
  }
 ],
 "metadata": {
  "kernelspec": {
   "display_name": "Python 3",
   "language": "python",
   "name": "python3"
  },
  "language_info": {
   "codemirror_mode": {
    "name": "ipython",
    "version": 2
   },
   "file_extension": ".py",
   "mimetype": "text/x-python",
   "name": "python",
   "nbconvert_exporter": "python",
   "pygments_lexer": "ipython2",
   "version": "2.7.6"
  }
 },
 "nbformat": 4,
 "nbformat_minor": 0
}