{
 "cells": [
  {
   "cell_type": "code",
   "execution_count": 1,
   "metadata": {
    "collapsed": true
   },
   "outputs": [],
   "source": [
    "import pandas as pd\n",
    "import plotly.express as px\n",
    "from dash import Dash, dcc, html, Output, Input\n",
    "import  dash_bootstrap_components as dbc\n",
    "pd.options.display.float_format = '{:,.0f}'.format"
   ]
  },
  {
   "cell_type": "markdown",
   "source": [
    "Carga de datos"
   ],
   "metadata": {
    "collapsed": false,
    "pycharm": {
     "name": "#%% md\n"
    }
   }
  },
  {
   "cell_type": "code",
   "execution_count": 2,
   "outputs": [],
   "source": [
    "df = pd.read_csv(\"D:/Zaeli/Analise Cliente Produto Comercial/Analisis Datos/VentasMesLineaProductoMunicipio.csv\", parse_dates = ['Fecha'], dayfirst=True)"
   ],
   "metadata": {
    "collapsed": false,
    "pycharm": {
     "name": "#%%\n"
    }
   }
  },
  {
   "cell_type": "code",
   "execution_count": 3,
   "outputs": [],
   "source": [
    "df = df.drop(columns=['Unnamed: 0', 'ChaveData'], axis=1)"
   ],
   "metadata": {
    "collapsed": false,
    "pycharm": {
     "name": "#%%\n"
    }
   }
  },
  {
   "cell_type": "code",
   "execution_count": 4,
   "outputs": [],
   "source": [
    "opciones_estado = list(df.Estado.unique())\n",
    "opciones_estado.sort()\n",
    "opciones_estado.append('Todos')\n",
    "opciones_linea = list(df.Linea.unique())\n",
    "opciones_linea.sort()\n",
    "opciones_linea.append('Todas')"
   ],
   "metadata": {
    "collapsed": false,
    "pycharm": {
     "name": "#%%\n"
    }
   }
  },
  {
   "cell_type": "markdown",
   "source": [
    "Creacion del lay-out y los callbacks"
   ],
   "metadata": {
    "collapsed": false,
    "pycharm": {
     "name": "#%% md\n"
    }
   }
  },
  {
   "cell_type": "code",
   "execution_count": 5,
   "outputs": [],
   "source": [
    "app = Dash(__name__, external_stylesheets=[dbc.themes.BOOTSTRAP])"
   ],
   "metadata": {
    "collapsed": false,
    "pycharm": {
     "name": "#%%\n"
    }
   }
  },
  {
   "cell_type": "code",
   "execution_count": 6,
   "outputs": [],
   "source": [
    "app.layout = dbc.Container([\n",
    "    dbc.Row([\n",
    "        html.H3('Dashboard de Ventas', className='p-5 bg-light border')\n",
    "    ]),\n",
    "    dbc.Row([\n",
    "        dbc.Col([\n",
    "            html.H6('Estado'),\n",
    "            dcc.Dropdown(id= 'seleccion_estado', options = opciones_estado, value='Todos', style={'width':'70%'}),\n",
    "        ], width=5 ),\n",
    "        dbc.Col([\n",
    "            html.H6('Linea'),\n",
    "            dcc.Dropdown(id= 'seleccion_linea', options = opciones_linea , value='Todas', style={'width':'70%'}),\n",
    "        ], width=5),\n",
    "    ]),\n",
    "    dbc.Row([\n",
    "        dcc.Graph(id='grafico_lineas' , figure={}),\n",
    "\n",
    "    ]),\n",
    "    dbc.Row([\n",
    "        dcc.Graph(id='grafico_precio' , figure={}),\n",
    "    ]),\n",
    "    dbc.Row([\n",
    "        dcc.Graph(id='grafico_margen' , figure={}),\n",
    "    ]),\n",
    "\n",
    "])"
   ],
   "metadata": {
    "collapsed": false,
    "pycharm": {
     "name": "#%%\n"
    }
   }
  },
  {
   "cell_type": "markdown",
   "source": [
    "Grafico de evolucion del peso"
   ],
   "metadata": {
    "collapsed": false,
    "pycharm": {
     "name": "#%% md\n"
    }
   }
  },
  {
   "cell_type": "code",
   "execution_count": 7,
   "outputs": [],
   "source": [
    "@app.callback(\n",
    "    Output('grafico_lineas', 'figure'),\n",
    "    Input('seleccion_linea' , 'value'),\n",
    "    Input('seleccion_estado', 'value')\n",
    ")\n",
    "\n",
    "def grafico_peso(linea, estado):\n",
    "    if (linea == \"Todas\") & (estado == 'Todos'):\n",
    "        dfT = df.groupby([pd.Grouper(key='Fecha', freq='M'), 'Fecha'], as_index=False).agg({\n",
    "            'ReceitaBruta':'sum',\n",
    "            'ReceitaLiquida':'sum',\n",
    "            'Peso':'sum',\n",
    "            'Volume':'sum',\n",
    "            'Margen':'sum'})\n",
    "        fig = px.line(dfT,\n",
    "                      x= \"Fecha\",\n",
    "                      y = 'Peso',\n",
    "                      hover_data={'ReceitaBruta':':,.0f',\n",
    "                                  'Peso': ':,.0f',\n",
    "                                  'Volume' : ':,.0f'},\n",
    "                      title=f'Peso de {linea} en {estado} ')\n",
    "        fig.update_traces(line=dict(color='royalblue', width=3))\n",
    "    elif (linea != \"Todas\") & (estado == 'Todos'):\n",
    "        df_filtrada = df.query('Linea ==@linea')\n",
    "        dfT = df_filtrada.groupby([pd.Grouper(key='Fecha', freq='M'), 'Fecha'], as_index=False).agg({\n",
    "            'ReceitaBruta':'sum',\n",
    "            'ReceitaLiquida':'sum',\n",
    "            'Peso':'sum',\n",
    "            'Volume':'sum',\n",
    "            'Margen':'sum'})\n",
    "        fig = px.line(dfT,\n",
    "                      x= \"Fecha\",\n",
    "                      y = 'Peso',\n",
    "                      hover_data={'ReceitaBruta':':,.0f',\n",
    "                                  'Peso': ':,.0f',\n",
    "                                  'Volume' : ':,.0f'},\n",
    "                      title=f'Peso de {linea} en {estado} ')\n",
    "        fig.update_traces(line=dict(color='royalblue', width=3))\n",
    "    elif (linea == \"Todas\") & (estado != 'Todos'):\n",
    "        df_filtrada = df.query('Estado ==@estado')\n",
    "        dfT = df_filtrada.groupby([pd.Grouper(key='Fecha', freq='M'), 'Fecha'], as_index=False).agg({\n",
    "            'ReceitaBruta':'sum',\n",
    "            'ReceitaLiquida':'sum',\n",
    "            'Peso':'sum',\n",
    "            'Volume':'sum',\n",
    "            'Margen':'sum'})\n",
    "        fig = px.line(dfT,\n",
    "                      x= \"Fecha\",\n",
    "                      y = 'Peso',\n",
    "                      hover_data={'ReceitaBruta':':,.0f',\n",
    "                                  'Peso': ':,.0f',\n",
    "                                  'Volume' : ':,.0f'},\n",
    "                      title=f'Peso de {linea} en {estado} ')\n",
    "        fig.update_traces(line=dict(color='royalblue', width=3))\n",
    "    else:\n",
    "        df_filtrada = df.query('Estado ==@estado & Linea==@linea')\n",
    "        dfT = df_filtrada.groupby([pd.Grouper(key='Fecha', freq='M'), 'Fecha'], as_index=False).agg({\n",
    "            'ReceitaBruta':'sum',\n",
    "            'ReceitaLiquida':'sum',\n",
    "            'Peso':'sum',\n",
    "            'Volume':'sum',\n",
    "            'Margen':'sum'})\n",
    "        fig = px.line(dfT,\n",
    "                      x= \"Fecha\",\n",
    "                      y = 'Peso',\n",
    "                      hover_data={'ReceitaBruta':':,.0f',\n",
    "                                  'Peso': ':,.0f',\n",
    "                                  'Volume' : ':,.0f'},\n",
    "                      title=f'Peso de {linea} en {estado} ')\n",
    "        fig.update_traces(line=dict(color='royalblue', width=3))\n",
    "    return fig"
   ],
   "metadata": {
    "collapsed": false,
    "pycharm": {
     "name": "#%%\n"
    }
   }
  },
  {
   "cell_type": "markdown",
   "source": [
    "Grafico de la evolucion del precio liquido"
   ],
   "metadata": {
    "collapsed": false,
    "pycharm": {
     "name": "#%% md\n"
    }
   }
  },
  {
   "cell_type": "code",
   "execution_count": 8,
   "outputs": [],
   "source": [
    "@app.callback(\n",
    "    Output('grafico_precio', 'figure'),\n",
    "    Input('seleccion_linea', 'value'),\n",
    "    Input('seleccion_estado', 'value')\n",
    ")\n",
    "\n",
    "def grafico_precio(linea, estado):\n",
    "    if (linea == 'Todas') & (estado == 'Todos'):\n",
    "        dfT = df.groupby([pd.Grouper(key='Fecha', freq='M'), 'Fecha'], as_index=False).agg({\n",
    "            'ReceitaBruta':'sum',\n",
    "            'ReceitaLiquida':'sum',\n",
    "            'Peso':'sum',\n",
    "            'Volume':'sum',\n",
    "            'Margen':'sum'})\n",
    "        dfT['PrecioKg'] = dfT['ReceitaBruta'] / dfT['Peso']\n",
    "        fig = px.line(dfT,\n",
    "                      x='Fecha',\n",
    "                      y = 'PrecioKg',\n",
    "                      hover_data={'ReceitaBruta':':,.0f',\n",
    "                                  'PrecioKg':':,.2f',\n",
    "                                  'Volume' : ':,.0f'},\n",
    "                      title=f'Precio por kg de {linea} en {estado} ')\n",
    "        fig.update_traces(line=dict(color='firebrick', width=3))\n",
    "    elif (linea != 'Todas') & (estado == 'Todos'):\n",
    "        df_filtrada = df.query('Linea==@linea')\n",
    "        dfT = df_filtrada.groupby([pd.Grouper(key='Fecha', freq='M'), 'Fecha'], as_index=False).agg({\n",
    "            'ReceitaBruta':'sum',\n",
    "            'ReceitaLiquida':'sum',\n",
    "            'Peso':'sum',\n",
    "            'Volume':'sum',\n",
    "            'Margen':'sum'})\n",
    "        dfT['PrecioKg'] = dfT['ReceitaBruta'] / dfT['Peso']\n",
    "        fig = px.line(dfT,\n",
    "                      x='Fecha',\n",
    "                      y = 'PrecioKg',\n",
    "                      hover_data={'ReceitaBruta':':,.0f',\n",
    "                                  'PrecioKg':':,.2f',\n",
    "                                  'Volume' : ':,.0f'},\n",
    "                      title=f'Precio por kg de {linea} en {estado} ')\n",
    "        fig.update_traces(line=dict(color='firebrick', width=3))\n",
    "    elif (linea == 'Todas') & (estado != 'Todos'):\n",
    "        df_filtrada = df.query('Estado ==@estado')\n",
    "        dfT = df_filtrada.groupby([pd.Grouper(key='Fecha', freq='M'), 'Fecha'], as_index=False).agg({\n",
    "            'ReceitaBruta':'sum',\n",
    "            'ReceitaLiquida':'sum',\n",
    "            'Peso':'sum',\n",
    "            'Volume':'sum',\n",
    "            'Margen':'sum'})\n",
    "        dfT['PrecioKg'] = dfT['ReceitaBruta'] / dfT['Peso']\n",
    "        fig = px.line(dfT,\n",
    "                      x='Fecha',\n",
    "                      y = 'PrecioKg',\n",
    "                      hover_data={'ReceitaBruta':':,.0f',\n",
    "                                  'PrecioKg':':,.2f',\n",
    "                                  'Volume' : ':,.0f'},\n",
    "                      title=f'Precio por kg de {linea} en {estado} ')\n",
    "        fig.update_traces(line=dict(color='firebrick',width=3))\n",
    "    else:\n",
    "        df_filtrada = df.query('Estado ==@estado & Linea == @linea')\n",
    "        dfT = df_filtrada.groupby([pd.Grouper(key='Fecha', freq='M'), 'Fecha'], as_index=False).agg({\n",
    "            'ReceitaBruta':'sum',\n",
    "            'ReceitaLiquida':'sum',\n",
    "            'Peso':'sum',\n",
    "            'Volume':'sum',\n",
    "            'Margen':'sum'})\n",
    "        dfT['PrecioKg'] = dfT['ReceitaBruta'] / dfT['Peso']\n",
    "        fig = px.line(dfT,\n",
    "                      x='Fecha',\n",
    "                      y = 'PrecioKg',\n",
    "                      hover_data={'ReceitaBruta':':,.0f',\n",
    "                                  'PrecioKg':':,.2f',\n",
    "                                  'Volume' : ':,.0f'},\n",
    "                      title=f'Precio por kg de {linea} en {estado} ')\n",
    "        fig.update_traces(line=dict(color='firebrick', width=3))\n",
    "    return fig\n"
   ],
   "metadata": {
    "collapsed": false,
    "pycharm": {
     "name": "#%%\n"
    }
   }
  },
  {
   "cell_type": "markdown",
   "source": [
    "Grafico de la evolucion del margen unitario"
   ],
   "metadata": {
    "collapsed": false,
    "pycharm": {
     "name": "#%% md\n"
    }
   }
  },
  {
   "cell_type": "code",
   "execution_count": 9,
   "outputs": [],
   "source": [
    "@app.callback(\n",
    "    Output('grafico_margen', 'figure'),\n",
    "    Input('seleccion_linea', 'value'),\n",
    "    Input('seleccion_estado' , 'value')\n",
    ")\n",
    "\n",
    "def grafico_precio(linea, estado):\n",
    "    if (linea == 'Todas') & (estado == 'Todos'):\n",
    "        dfT = df.groupby([pd.Grouper(key='Fecha', freq='M'), 'Fecha'], as_index=False).agg({\n",
    "            'ReceitaBruta':'sum',\n",
    "            'ReceitaLiquida':'sum',\n",
    "            'Peso':'sum',\n",
    "            'Volume':'sum',\n",
    "            'Margen':'sum'})\n",
    "        dfT['Margen%'] = dfT['Margen'] / dfT['ReceitaBruta'] * 100\n",
    "        fig = px.line(dfT,\n",
    "                      x='Fecha',\n",
    "                      y = 'Margen%',\n",
    "                      hover_data={'ReceitaBruta':':,.0f',\n",
    "                                  'Margen%':':,.2f',\n",
    "                                  'Volume' : ':,.0f'},\n",
    "                      title=f'Margen de {linea} en {estado}' )\n",
    "        fig.update_traces(line=dict(color='forestgreen', width=3))\n",
    "    elif (linea != 'Todas') & (estado == 'Todos'):\n",
    "        df_filtrada = df.query('Linea==@linea')\n",
    "        dfT = df_filtrada.groupby([pd.Grouper(key='Fecha', freq='M'), 'Fecha'], as_index=False).agg({\n",
    "            'ReceitaBruta':'sum',\n",
    "            'ReceitaLiquida':'sum',\n",
    "            'Peso':'sum',\n",
    "            'Volume':'sum',\n",
    "            'Margen':'sum'})\n",
    "        dfT['Margen%'] = dfT['Margen'] / dfT['ReceitaBruta'] *100\n",
    "        fig = px.line(dfT,\n",
    "                      x='Fecha',\n",
    "                      y = 'Margen%',\n",
    "                      hover_data={'ReceitaBruta':':,.0f',\n",
    "                                  'Margen%':':,.2f',\n",
    "                                  'Volume' : ':,.0f'},\n",
    "                      title=f'Margen de {linea} en {estado}')\n",
    "        fig.update_traces(line=dict(color='forestgreen', width=3))\n",
    "    elif (linea == 'Todas') & (estado != 'Todos'):\n",
    "        df_filtrada = df.query('Estado == @estado')\n",
    "        dfT = df_filtrada.groupby([pd.Grouper(key='Fecha', freq='M'), 'Fecha'], as_index=False).agg({\n",
    "            'ReceitaBruta':'sum',\n",
    "            'ReceitaLiquida':'sum',\n",
    "            'Peso':'sum',\n",
    "            'Volume':'sum',\n",
    "            'Margen':'sum'})\n",
    "        dfT['Margen%'] = dfT['Margen'] / dfT['ReceitaBruta'] *100\n",
    "        fig = px.line(dfT,\n",
    "                      x='Fecha',\n",
    "                      y = 'Margen%',\n",
    "                      hover_data={'ReceitaBruta':':,.0f',\n",
    "                                  'Margen%':':,.2f',\n",
    "                                  'Volume' : ':,.0f'},\n",
    "                      title=f'Margen de {linea} en {estado}')\n",
    "        fig.update_traces(line=dict(color='forestgreen', width=3))\n",
    "    else:\n",
    "        df_filtrada = df.query('Estado == @estado & Linea == @linea')\n",
    "        dfT = df_filtrada.groupby([pd.Grouper(key='Fecha', freq='M'), 'Fecha'], as_index=False).agg({\n",
    "            'ReceitaBruta':'sum',\n",
    "            'ReceitaLiquida':'sum',\n",
    "            'Peso':'sum',\n",
    "            'Volume':'sum',\n",
    "            'Margen':'sum'})\n",
    "        dfT['Margen%'] = dfT['Margen'] / dfT['ReceitaBruta'] *100\n",
    "        fig = px.line(dfT,\n",
    "                      x='Fecha',\n",
    "                      y = 'Margen%',\n",
    "                      hover_data={'ReceitaBruta':':,.0f',\n",
    "                                  'Margen%':':,.2f',\n",
    "                                  'Volume' : ':,.0f'},\n",
    "                      title=f'Margen de {linea} en {estado}')\n",
    "        fig.update_traces(line=dict(color='forestgreen', width=3))\n",
    "    return fig"
   ],
   "metadata": {
    "collapsed": false,
    "pycharm": {
     "name": "#%%\n"
    }
   }
  },
  {
   "cell_type": "code",
   "execution_count": null,
   "outputs": [],
   "source": [
    "if __name__ == '__main__':\n",
    "    app.run_server(debug=False)"
   ],
   "metadata": {
    "collapsed": false,
    "pycharm": {
     "name": "#%%\n",
     "is_executing": true
    }
   }
  },
  {
   "cell_type": "code",
   "execution_count": 25,
   "outputs": [],
   "source": [],
   "metadata": {
    "collapsed": false,
    "pycharm": {
     "name": "#%%\n"
    }
   }
  }
 ],
 "metadata": {
  "kernelspec": {
   "display_name": "Python 3",
   "language": "python",
   "name": "python3"
  },
  "language_info": {
   "codemirror_mode": {
    "name": "ipython",
    "version": 2
   },
   "file_extension": ".py",
   "mimetype": "text/x-python",
   "name": "python",
   "nbconvert_exporter": "python",
   "pygments_lexer": "ipython2",
   "version": "2.7.6"
  }
 },
 "nbformat": 4,
 "nbformat_minor": 0
}