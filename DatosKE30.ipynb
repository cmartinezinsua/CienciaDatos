{
 "cells": [
  {
   "cell_type": "code",
   "execution_count": 1,
   "metadata": {
    "collapsed": true
   },
   "outputs": [],
   "source": [
    "import pandas as pd\n",
    "import numpy as np\n",
    "from datetime import datetime\n",
    "pd.options.display.float_format = '{:,.0f}'.format\n",
    "import glob"
   ]
  },
  {
   "cell_type": "markdown",
   "source": [
    "Carga de los archivos"
   ],
   "metadata": {
    "collapsed": false,
    "pycharm": {
     "name": "#%% md\n"
    }
   }
  },
  {
   "cell_type": "code",
   "execution_count": 2,
   "outputs": [],
   "source": [
    "lista = lista = glob.glob(\"D:/Zaeli/Analise Cliente Produto Comercial/Consolidado/Recientes/*.csv\")\n",
    "ventas = []"
   ],
   "metadata": {
    "collapsed": false,
    "pycharm": {
     "name": "#%%\n"
    }
   }
  },
  {
   "cell_type": "code",
   "execution_count": 3,
   "outputs": [],
   "source": [
    "for archivo in lista:\n",
    "    data = pd.read_csv(archivo, header=0, sep = ';', parse_dates = ['Ano/Mes'], dtype = {'CodGer':str,'CODSAP':str ,'CodRepresentante':str, 'Cli&Rep':str}, dayfirst=True)\n",
    "    data = data.rename(columns={'Ano/Mes':'Fecha', 'CODSAP' : 'Material'})\n",
    "    ventas.append(data)\n",
    "ventas = pd.concat(ventas, ignore_index = True)"
   ],
   "metadata": {
    "collapsed": false,
    "pycharm": {
     "name": "#%%\n"
    }
   }
  },
  {
   "cell_type": "markdown",
   "source": [
    "Preparacion de la base de datos comercial"
   ],
   "metadata": {
    "collapsed": false,
    "pycharm": {
     "name": "#%% md\n"
    }
   }
  },
  {
   "cell_type": "code",
   "execution_count": 4,
   "outputs": [],
   "source": [
    "inflacion = pd.read_excel(\"D:/Zaeli/BI/Archivos Compartidos/Inflacion.xlsx\", header=3, sheet_name = 'Hoja1')\n",
    "inflacion = inflacion.rename(columns= {'DataKey':'ChaveData'})\n",
    "ventasi = pd.merge(ventas, inflacion)\n",
    "ventasi['ReceitaBrutaIn'] = ventasi.ReceitaBruta * (1 + ventasi.InfacaoAcum)\n",
    "ventasi['Verbas'] = ventasi.Bonif + ventasi.DescConcedidos + ventasi.Impostos + ventasi.Frete + ventasi.Comis - ventasi.Devol - ventasi.Troca\n",
    "ventasi['ReceitaLiquida'] = ventasi.ReceitaBruta - ventasi.Verbas\n",
    "ventasi['ReceitaLiquidaIn'] = ventasi.ReceitaLiquida * (1 + ventasi.InfacaoAcum)\n",
    "ventasi['MargenBruto'] = ventasi.ReceitaLiquida - ventasi.CPV\n",
    "ventasi['MargenBrutoIn'] = ventasi.MargenBruto * (1 + ventasi.InfacaoAcum)\n",
    "ventasi = ventasi.drop(['PesoBruto', 'ReceitaBruta', 'Bonif', 'DescConcedidos', 'Impostos', 'Comis', 'CPV', 'Devol', 'Troca',                                                                       'Inflacaomes','InfacaoAcum', 'Verbas', 'MargenBruto', 'ReceitaLiquida'], axis=1)\n",
    "ventasi = ventasi.rename(columns={\n",
    "    'ReceitaBrutaIn' : 'ReceitaBruta',\n",
    "    'ReceitaLiquidaIn' : 'ReceitaLiquida',\n",
    "    'MargenBrutoIn' : 'Margen'\n",
    "})"
   ],
   "metadata": {
    "collapsed": false,
    "pycharm": {
     "name": "#%%\n"
    }
   }
  },
  {
   "cell_type": "code",
   "execution_count": 5,
   "outputs": [],
   "source": [
    "lineas = pd.read_csv(\"D:/Zaeli/PrevisionDemanda/lineasProducto.csv\", header=0, sep=';')\n",
    "lineas = lineas.rename(columns={\n",
    "    'COD SAP':'Material',\n",
    "    'Linha':'Linea',\n",
    "    'Produto':'Producto'\n",
    "})\n",
    "lineas['Material'] = lineas['Material'].astype(str)\n",
    "ventasP = pd.merge(ventasi, lineas)\n",
    "ventasP = ventasP.drop(['Cli&Rep', 'Tipo'], axis=1)"
   ],
   "metadata": {
    "collapsed": false,
    "pycharm": {
     "name": "#%%\n"
    }
   }
  },
  {
   "cell_type": "code",
   "execution_count": 6,
   "outputs": [],
   "source": [
    "ListadoClientes = pd.read_excel(\"D:/Zaeli/BI/Archivos Compartidos/Clientes.xlsx\",sheet_name='Listado')\n",
    "ListadoClientes = ListadoClientes.drop(['Cidade', 'CodEstado', 'Estado', 'CidadeEstado'], axis=1)\n",
    "ventasC = pd.merge(ventasP, ListadoClientes)"
   ],
   "metadata": {
    "collapsed": false,
    "pycharm": {
     "name": "#%%\n"
    }
   }
  },
  {
   "cell_type": "code",
   "execution_count": 8,
   "outputs": [],
   "source": [
    "ventasLM = ventasC.groupby([pd.Grouper(key='Fecha', freq='M'), 'Fecha', 'CodigoMunicipio', 'Linea'], as_index=False).agg({\n",
    "    'ReceitaBruta':'sum',\n",
    "    'ReceitaLiquida':'sum',\n",
    "    'Volume':'sum',\n",
    "    'PesoLiq':'sum',\n",
    "    'Margen':'sum'\n",
    "})"
   ],
   "metadata": {
    "collapsed": false,
    "pycharm": {
     "name": "#%%\n"
    }
   }
  },
  {
   "cell_type": "markdown",
   "source": [
    "Carga y preparacion del archivo de los municipios"
   ],
   "metadata": {
    "collapsed": false,
    "pycharm": {
     "name": "#%% md\n"
    }
   }
  },
  {
   "cell_type": "code",
   "execution_count": 9,
   "outputs": [],
   "source": [
    "datosMun = pd.read_csv(\"D:/Zaeli/PrevisionDemanda/DatosMunicipios.csv\", header=0, sep = ';')\n",
    "datosMun = datosMun.rename(columns = {\n",
    "    'CódigoMunicípio':'CodigoMunicipio',\n",
    "    'Área Territorial 0 km² [2020]':'Area_km2',\n",
    "    'População estimada 0 pessoas [2021]': 'Poblacion',\n",
    "    'Densidade demográfica 0 hab/km² [2010]': 'Habitantes_km2',\n",
    "    'Escolarização6a14%': 'PorcEscolarizacion6a14',\n",
    "    'IDHM ' : 'IDHM',\n",
    "    'Mortalidade infantil' : 'Mortalidad_Infantil'\n",
    "})"
   ],
   "metadata": {
    "collapsed": false,
    "pycharm": {
     "name": "#%%\n"
    }
   }
  },
  {
   "cell_type": "code",
   "execution_count": 10,
   "outputs": [],
   "source": [
    "datosMun.loc[datosMun['IDHM'] < 0.49 , 'Desarrollo'] = 'Muy Bajo'\n",
    "datosMun.loc[(datosMun['IDHM'] >= 0.49) & (datosMun['IDHM'] < 0.599) , 'Desarrollo'] = 'Bajo'\n",
    "datosMun.loc[(datosMun['IDHM'] >= 0.599) & (datosMun['IDHM'] < 0.699) , 'Desarrollo'] = 'Medio'\n",
    "datosMun.loc[(datosMun['IDHM'] >= 0.699) & (datosMun['IDHM'] <= 0.799) , 'Desarrollo'] = 'Alto'\n",
    "datosMun.loc[datosMun['IDHM'] >= 0.80 , 'Desarrollo'] = 'Muy Alto'\n",
    "datosMun.loc[datosMun['IDHM'] < 0.49 , 'DesarrolloNum'] = '1'\n",
    "datosMun.loc[(datosMun['IDHM'] >= 0.49) & (datosMun['IDHM'] < 0.599) , 'DesarrolloNum'] = '2'\n",
    "datosMun.loc[(datosMun['IDHM'] >= 0.599) & (datosMun['IDHM'] < 0.699) , 'DesarrolloNum'] = '3'\n",
    "datosMun.loc[(datosMun['IDHM'] >= 0.699) & (datosMun['IDHM'] <= 0.799) , 'DesarrolloNum'] = '4'\n",
    "datosMun.loc[datosMun['IDHM'] >= 0.80 , 'DesarrolloNum'] = '5'"
   ],
   "metadata": {
    "collapsed": false,
    "pycharm": {
     "name": "#%%\n"
    }
   }
  },
  {
   "cell_type": "code",
   "execution_count": 11,
   "outputs": [],
   "source": [
    "col_minimercados = np.argwhere(datosMun.columns.isin(['MiniMercDemais','MiniMercEPP', 'MiniMercME', 'MiniMercMEI'])).ravel()\n",
    "col_supermercados = np.argwhere(datosMun.columns.isin(['SupermercadoDemais','SupermercadoEPP', 'SupermercadoME', 'SupermercadoMEI'])).ravel()\n",
    "col_conveniencias = np.argwhere(datosMun.columns.isin(['ConvenienciaDemais', 'ConvenienciaEPP', 'ConvenienciaME','ConvenienciaMEI'])).ravel()\n",
    "col_hipermercados =  np.argwhere(datosMun.columns.isin(['HiperDemais', 'HiperEPP'])).ravel()\n",
    "col_atacados = np.argwhere(datosMun.columns.isin(['AtacadoDemais', 'AtacadoEPP'])).ravel()"
   ],
   "metadata": {
    "collapsed": false,
    "pycharm": {
     "name": "#%%\n"
    }
   }
  },
  {
   "cell_type": "code",
   "execution_count": 12,
   "outputs": [],
   "source": [
    "datosMun['Minimercados'] = datosMun.iloc[:,col_minimercados].sum(axis=1)\n",
    "datosMun['Supermercados'] = datosMun.iloc[:,col_supermercados].sum(axis=1)\n",
    "datosMun['Conveniencias'] = datosMun.iloc[:,col_conveniencias].sum(axis=1)\n",
    "datosMun['Hipermercados'] = datosMun.iloc[:,col_hipermercados].sum(axis=1)\n",
    "datosMun['Atacados'] = datosMun.iloc[:,col_atacados].sum(axis=1)"
   ],
   "metadata": {
    "collapsed": false,
    "pycharm": {
     "name": "#%%\n"
    }
   }
  },
  {
   "cell_type": "code",
   "execution_count": 13,
   "outputs": [],
   "source": [
    "datosMun.loc[(datosMun.Hipermercados + datosMun.Atacados) == 0, 'TipoComercios'] = 'Sin Hipermercados ni Atacados'\n",
    "datosMun.loc[((datosMun.Hipermercados + datosMun.Atacados) >0) & ((datosMun.Hipermercados + datosMun.Atacados) <= 5), 'TipoComercios' ] = '< 5 Atacados e Hipermercados'\n",
    "datosMun.loc[((datosMun.Hipermercados + datosMun.Atacados) >5) & ((datosMun.Hipermercados + datosMun.Atacados) <= 10), 'TipoComercios' ] = '< 10 Atacados e Hipermercados'\n",
    "datosMun.loc[(datosMun.Hipermercados + datosMun.Atacados) >10 , 'TipoComercios' ] = '> 10 Atacados e Hipermercados'\n",
    "datosMun.loc[(datosMun.Hipermercados + datosMun.Atacados) == 0, 'TipoComerciosNum'] = '1'\n",
    "datosMun.loc[((datosMun.Hipermercados + datosMun.Atacados) >0) & ((datosMun.Hipermercados + datosMun.Atacados) <= 5), 'TipoComerciosNum' ] = '2'\n",
    "datosMun.loc[((datosMun.Hipermercados + datosMun.Atacados) >5) & ((datosMun.Hipermercados + datosMun.Atacados) <= 10), 'TipoComerciosNum' ] = '3'\n",
    "datosMun.loc[(datosMun.Hipermercados + datosMun.Atacados) >10 , 'TipoComerciosNum' ] = '4'"
   ],
   "metadata": {
    "collapsed": false,
    "pycharm": {
     "name": "#%%\n"
    }
   }
  },
  {
   "cell_type": "code",
   "execution_count": 14,
   "outputs": [],
   "source": [
    "datosMun = datosMun.drop(['VAAgro', 'VAIndustria','VAServicos', 'VAAdmPublica','VATotal', 'Impostos', 'PBI','Atividade secundaria', 'Atividade terciaria', 'Area_km2',\n",
    "                          'Habitantes_km2', 'PorcEscolarizacion6a14', 'Mortalidad_Infantil', 'ReceitaPrefeitura', 'DespesasPrefeitura','Mortalidad_Infantil', 'ReceitaPrefeitura', 'DespesasPrefeitura','HiperDemais', 'HiperEPP', 'HiperME', 'HiperMEI', 'MiniMercDemais', 'MiniMercEPP', 'MiniMercME', 'MiniMercMEI', 'SupermercadoDemais', 'SupermercadoEPP', 'SupermercadoME', 'SupermercadoMEI', 'ConvenienciaDemais', 'ConvenienciaEPP', 'ConvenienciaME', 'ConvenienciaMEI', 'AtacadoDemais', 'AtacadoEPP', 'AtacadoME', 'AtacadoMEI'\n",
    "                          ], axis=1)"
   ],
   "metadata": {
    "collapsed": false,
    "pycharm": {
     "name": "#%%\n"
    }
   }
  },
  {
   "cell_type": "markdown",
   "source": [
    "Union con la base de datos de ventas y creacion del archivo CSV"
   ],
   "metadata": {
    "collapsed": false,
    "pycharm": {
     "name": "#%% md\n"
    }
   }
  },
  {
   "cell_type": "code",
   "execution_count": 15,
   "outputs": [],
   "source": [
    "ventas_tot_mun = pd.merge(ventasLM, datosMun)"
   ],
   "metadata": {
    "collapsed": false,
    "pycharm": {
     "name": "#%%\n"
    }
   }
  },
  {
   "cell_type": "code",
   "execution_count": 16,
   "outputs": [],
   "source": [
    "ventas_tot_mun.to_csv(\"D:/Zaeli/Analise Cliente Produto Comercial/Analisis Datos/VentasporLineaMnicipio.csv\")"
   ],
   "metadata": {
    "collapsed": false,
    "pycharm": {
     "name": "#%%\n"
    }
   }
  },
  {
   "cell_type": "code",
   "execution_count": null,
   "outputs": [],
   "source": [],
   "metadata": {
    "collapsed": false,
    "pycharm": {
     "name": "#%%\n"
    }
   }
  }
 ],
 "metadata": {
  "kernelspec": {
   "display_name": "Python 3",
   "language": "python",
   "name": "python3"
  },
  "language_info": {
   "codemirror_mode": {
    "name": "ipython",
    "version": 2
   },
   "file_extension": ".py",
   "mimetype": "text/x-python",
   "name": "python",
   "nbconvert_exporter": "python",
   "pygments_lexer": "ipython2",
   "version": "2.7.6"
  }
 },
 "nbformat": 4,
 "nbformat_minor": 0
}